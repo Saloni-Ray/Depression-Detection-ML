{
 "cells": [
  {
   "cell_type": "code",
   "execution_count": 24,
   "metadata": {
    "id": "0BQ1Bvcl1S1Y"
   },
   "outputs": [],
   "source": [
    "import numpy as np\n",
    "import pandas as pd\n",
    "import matplotlib.pyplot as plt"
   ]
  },
  {
   "cell_type": "code",
   "execution_count": 25,
   "metadata": {
    "id": "lZwC55b-AKnZ"
   },
   "outputs": [],
   "source": [
    "%matplotlib inline"
   ]
  },
  {
   "cell_type": "code",
   "execution_count": 26,
   "metadata": {
    "id": "BMhpvOxk11K-"
   },
   "outputs": [],
   "source": [
    "dataset = pd.read_csv('depression_data.csv')"
   ]
  },
  {
   "cell_type": "code",
   "execution_count": 27,
   "metadata": {
    "colab": {
     "base_uri": "https://localhost:8080/",
     "height": 223
    },
    "id": "UYP4E-c5pAa3",
    "outputId": "524cc0e0-2061-4dd5-92c6-3cd3ed0fb1af"
   },
   "outputs": [
    {
     "data": {
      "text/html": [
       "<div>\n",
       "<style scoped>\n",
       "    .dataframe tbody tr th:only-of-type {\n",
       "        vertical-align: middle;\n",
       "    }\n",
       "\n",
       "    .dataframe tbody tr th {\n",
       "        vertical-align: top;\n",
       "    }\n",
       "\n",
       "    .dataframe thead th {\n",
       "        text-align: right;\n",
       "    }\n",
       "</style>\n",
       "<table border=\"1\" class=\"dataframe\">\n",
       "  <thead>\n",
       "    <tr style=\"text-align: right;\">\n",
       "      <th></th>\n",
       "      <th>Unnamed: 0</th>\n",
       "      <th>message</th>\n",
       "      <th>label</th>\n",
       "    </tr>\n",
       "  </thead>\n",
       "  <tbody>\n",
       "    <tr>\n",
       "      <th>0</th>\n",
       "      <td>106</td>\n",
       "      <td>just had a real good moment. i missssssssss hi...</td>\n",
       "      <td>0</td>\n",
       "    </tr>\n",
       "    <tr>\n",
       "      <th>1</th>\n",
       "      <td>217</td>\n",
       "      <td>is reading manga  http://plurk.com/p/mzp1e</td>\n",
       "      <td>0</td>\n",
       "    </tr>\n",
       "    <tr>\n",
       "      <th>2</th>\n",
       "      <td>220</td>\n",
       "      <td>@comeagainjen http://twitpic.com/2y2lx - http:...</td>\n",
       "      <td>0</td>\n",
       "    </tr>\n",
       "    <tr>\n",
       "      <th>3</th>\n",
       "      <td>288</td>\n",
       "      <td>@lapcat Need to send 'em to my accountant tomo...</td>\n",
       "      <td>0</td>\n",
       "    </tr>\n",
       "    <tr>\n",
       "      <th>4</th>\n",
       "      <td>540</td>\n",
       "      <td>ADD ME ON MYSPACE!!!  myspace.com/LookThunder</td>\n",
       "      <td>0</td>\n",
       "    </tr>\n",
       "  </tbody>\n",
       "</table>\n",
       "</div>"
      ],
      "text/plain": [
       "   Unnamed: 0                                            message  label\n",
       "0         106  just had a real good moment. i missssssssss hi...      0\n",
       "1         217         is reading manga  http://plurk.com/p/mzp1e      0\n",
       "2         220  @comeagainjen http://twitpic.com/2y2lx - http:...      0\n",
       "3         288  @lapcat Need to send 'em to my accountant tomo...      0\n",
       "4         540      ADD ME ON MYSPACE!!!  myspace.com/LookThunder      0"
      ]
     },
     "execution_count": 27,
     "metadata": {},
     "output_type": "execute_result"
    }
   ],
   "source": [
    "dataset.head()"
   ]
  },
  {
   "cell_type": "markdown",
   "metadata": {
    "id": "NZJqwTEQxexL"
   },
   "source": [
    "## 1. Data Cleaning"
   ]
  },
  {
   "cell_type": "code",
   "execution_count": 28,
   "metadata": {
    "colab": {
     "base_uri": "https://localhost:8080/"
    },
    "id": "l6JSQ00QwNht",
    "outputId": "68f541dc-4544-43a7-cc07-d6f3f0ebdab4"
   },
   "outputs": [
    {
     "name": "stdout",
     "output_type": "stream",
     "text": [
      "<class 'pandas.core.frame.DataFrame'>\n",
      "RangeIndex: 10314 entries, 0 to 10313\n",
      "Data columns (total 3 columns):\n",
      " #   Column      Non-Null Count  Dtype \n",
      "---  ------      --------------  ----- \n",
      " 0   Unnamed: 0  10314 non-null  int64 \n",
      " 1   message     10314 non-null  object\n",
      " 2   label       10314 non-null  int64 \n",
      "dtypes: int64(2), object(1)\n",
      "memory usage: 241.9+ KB\n"
     ]
    }
   ],
   "source": [
    "dataset.info()"
   ]
  },
  {
   "cell_type": "code",
   "execution_count": 29,
   "metadata": {
    "id": "zwugi9fE6LMo"
   },
   "outputs": [],
   "source": [
    "dataset.drop(dataset.columns[0], axis = 1, inplace = True)"
   ]
  },
  {
   "cell_type": "code",
   "execution_count": 30,
   "metadata": {},
   "outputs": [],
   "source": [
    "dataset.rename(columns={'message':'text'}, inplace=True)"
   ]
  },
  {
   "cell_type": "code",
   "execution_count": 31,
   "metadata": {
    "colab": {
     "base_uri": "https://localhost:8080/",
     "height": 206
    },
    "id": "6xMBu49O6mAM",
    "outputId": "7767ebf2-617d-4c02-9f44-c2cfa15e48de"
   },
   "outputs": [
    {
     "data": {
      "text/html": [
       "<div>\n",
       "<style scoped>\n",
       "    .dataframe tbody tr th:only-of-type {\n",
       "        vertical-align: middle;\n",
       "    }\n",
       "\n",
       "    .dataframe tbody tr th {\n",
       "        vertical-align: top;\n",
       "    }\n",
       "\n",
       "    .dataframe thead th {\n",
       "        text-align: right;\n",
       "    }\n",
       "</style>\n",
       "<table border=\"1\" class=\"dataframe\">\n",
       "  <thead>\n",
       "    <tr style=\"text-align: right;\">\n",
       "      <th></th>\n",
       "      <th>text</th>\n",
       "      <th>label</th>\n",
       "    </tr>\n",
       "  </thead>\n",
       "  <tbody>\n",
       "    <tr>\n",
       "      <th>0</th>\n",
       "      <td>just had a real good moment. i missssssssss hi...</td>\n",
       "      <td>0</td>\n",
       "    </tr>\n",
       "    <tr>\n",
       "      <th>1</th>\n",
       "      <td>is reading manga  http://plurk.com/p/mzp1e</td>\n",
       "      <td>0</td>\n",
       "    </tr>\n",
       "    <tr>\n",
       "      <th>2</th>\n",
       "      <td>@comeagainjen http://twitpic.com/2y2lx - http:...</td>\n",
       "      <td>0</td>\n",
       "    </tr>\n",
       "    <tr>\n",
       "      <th>3</th>\n",
       "      <td>@lapcat Need to send 'em to my accountant tomo...</td>\n",
       "      <td>0</td>\n",
       "    </tr>\n",
       "    <tr>\n",
       "      <th>4</th>\n",
       "      <td>ADD ME ON MYSPACE!!!  myspace.com/LookThunder</td>\n",
       "      <td>0</td>\n",
       "    </tr>\n",
       "  </tbody>\n",
       "</table>\n",
       "</div>"
      ],
      "text/plain": [
       "                                                text  label\n",
       "0  just had a real good moment. i missssssssss hi...      0\n",
       "1         is reading manga  http://plurk.com/p/mzp1e      0\n",
       "2  @comeagainjen http://twitpic.com/2y2lx - http:...      0\n",
       "3  @lapcat Need to send 'em to my accountant tomo...      0\n",
       "4      ADD ME ON MYSPACE!!!  myspace.com/LookThunder      0"
      ]
     },
     "execution_count": 31,
     "metadata": {},
     "output_type": "execute_result"
    }
   ],
   "source": [
    "dataset.head()"
   ]
  },
  {
   "cell_type": "code",
   "execution_count": 34,
   "metadata": {
    "colab": {
     "base_uri": "https://localhost:8080/"
    },
    "id": "0gWPqw19_Ugj",
    "outputId": "203f2cbb-02d3-4c1f-9ca1-9713eddd2b03"
   },
   "outputs": [
    {
     "data": {
      "text/plain": [
       "text     0\n",
       "label    0\n",
       "dtype: int64"
      ]
     },
     "execution_count": 34,
     "metadata": {},
     "output_type": "execute_result"
    }
   ],
   "source": [
    "# #missing values\n",
    "dataset.isnull().sum()"
   ]
  },
  {
   "cell_type": "code",
   "execution_count": 35,
   "metadata": {
    "colab": {
     "base_uri": "https://localhost:8080/"
    },
    "id": "Q6qT25OVwlM9",
    "outputId": "ffa3c34c-5662-4110-8d8a-f380bef528cf"
   },
   "outputs": [
    {
     "data": {
      "text/plain": [
       "31"
      ]
     },
     "execution_count": 35,
     "metadata": {},
     "output_type": "execute_result"
    }
   ],
   "source": [
    "#duplicate values\n",
    "dataset.duplicated().sum()"
   ]
  },
  {
   "cell_type": "code",
   "execution_count": 36,
   "metadata": {
    "id": "Ni1sj0Qaw7fr"
   },
   "outputs": [],
   "source": [
    "#removing duplicate values\n",
    "dataset = dataset.drop_duplicates(keep='first')"
   ]
  },
  {
   "cell_type": "code",
   "execution_count": 37,
   "metadata": {
    "colab": {
     "base_uri": "https://localhost:8080/"
    },
    "id": "cVQX0oUYxKVN",
    "outputId": "65699e52-9c0f-464e-d2d7-6c0bfb70de29"
   },
   "outputs": [
    {
     "data": {
      "text/plain": [
       "0"
      ]
     },
     "execution_count": 37,
     "metadata": {},
     "output_type": "execute_result"
    }
   ],
   "source": [
    "dataset.duplicated().sum()"
   ]
  },
  {
   "cell_type": "code",
   "execution_count": 38,
   "metadata": {
    "colab": {
     "base_uri": "https://localhost:8080/"
    },
    "id": "DDclkSdJxUP0",
    "outputId": "e4873b77-1f20-47de-a5de-cc1033451470"
   },
   "outputs": [
    {
     "data": {
      "text/plain": [
       "(10283, 2)"
      ]
     },
     "execution_count": 38,
     "metadata": {},
     "output_type": "execute_result"
    }
   ],
   "source": [
    "dataset.shape"
   ]
  },
  {
   "cell_type": "markdown",
   "metadata": {
    "id": "LsMxuJKBxm4N"
   },
   "source": [
    "## 2. EDA"
   ]
  },
  {
   "cell_type": "code",
   "execution_count": 39,
   "metadata": {
    "colab": {
     "base_uri": "https://localhost:8080/"
    },
    "id": "xjLWSZSrByYx",
    "outputId": "0dcaee01-2c48-438d-86bd-10b907682f4d"
   },
   "outputs": [
    {
     "data": {
      "text/plain": [
       "0    7996\n",
       "1    2287\n",
       "Name: label, dtype: int64"
      ]
     },
     "execution_count": 39,
     "metadata": {},
     "output_type": "execute_result"
    }
   ],
   "source": [
    "dataset['label'].value_counts()"
   ]
  },
  {
   "cell_type": "code",
   "execution_count": 40,
   "metadata": {
    "colab": {
     "base_uri": "https://localhost:8080/",
     "height": 406
    },
    "id": "tNLpxOcox-HY",
    "outputId": "a9cae9fc-7078-4507-e4dd-b139e2d8704f"
   },
   "outputs": [
    {
     "data": {
      "image/png": "[encoded data removed]",
      "text/plain": [
       "<Figure size 432x288 with 1 Axes>"
      ]
     },
     "metadata": {},
     "output_type": "display_data"
    }
   ],
   "source": [
    "plt.pie(dataset['label'].value_counts(), labels=['Normal', 'Depressive'], autopct='%0.2f')\n",
    "plt.show()"
   ]
  },
  {
   "cell_type": "code",
   "execution_count": 41,
   "metadata": {
    "id": "MM75mARby7r8"
   },
   "outputs": [],
   "source": [
    "# Data is imbalanced"
   ]
  },
  {
   "cell_type": "code",
   "execution_count": 42,
   "metadata": {
    "colab": {
     "base_uri": "https://localhost:8080/"
    },
    "id": "ZtzvY5lxzGje",
    "outputId": "6fe4fb6a-fd1f-4479-c1df-cee8f3fc09b4"
   },
   "outputs": [
    {
     "name": "stderr",
     "output_type": "stream",
     "text": [
      "[nltk_data] Downloading package punkt to\n",
      "[nltk_data]     C:\\Users\\Moinul\\AppData\\Roaming\\nltk_data...\n",
      "[nltk_data]   Package punkt is already up-to-date!\n"
     ]
    },
    {
     "data": {
      "text/plain": [
       "True"
      ]
     },
     "execution_count": 42,
     "metadata": {},
     "output_type": "execute_result"
    }
   ],
   "source": [
    "import nltk\n",
    "nltk.download('punkt')"
   ]
  },
  {
   "cell_type": "code",
   "execution_count": 43,
   "metadata": {
    "id": "-Z2GEgy6znqp"
   },
   "outputs": [],
   "source": [
    "# Number of characters\n",
    "dataset['num_characters'] = dataset['text'].apply(len)"
   ]
  },
  {
   "cell_type": "code",
   "execution_count": 44,
   "metadata": {
    "colab": {
     "base_uri": "https://localhost:8080/",
     "height": 206
    },
    "id": "bMfRS4RDzz9K",
    "outputId": "e395d4bb-1b50-4792-e5e7-db17666a3aa3"
   },
   "outputs": [
    {
     "data": {
      "text/html": [
       "<div>\n",
       "<style scoped>\n",
       "    .dataframe tbody tr th:only-of-type {\n",
       "        vertical-align: middle;\n",
       "    }\n",
       "\n",
       "    .dataframe tbody tr th {\n",
       "        vertical-align: top;\n",
       "    }\n",
       "\n",
       "    .dataframe thead th {\n",
       "        text-align: right;\n",
       "    }\n",
       "</style>\n",
       "<table border=\"1\" class=\"dataframe\">\n",
       "  <thead>\n",
       "    <tr style=\"text-align: right;\">\n",
       "      <th></th>\n",
       "      <th>text</th>\n",
       "      <th>label</th>\n",
       "      <th>num_characters</th>\n",
       "    </tr>\n",
       "  </thead>\n",
       "  <tbody>\n",
       "    <tr>\n",
       "      <th>8424</th>\n",
       "      <td>i use video games to cope with my depression</td>\n",
       "      <td>1</td>\n",
       "      <td>44</td>\n",
       "    </tr>\n",
       "    <tr>\n",
       "      <th>3209</th>\n",
       "      <td>Goin out with my friends!!</td>\n",
       "      <td>0</td>\n",
       "      <td>27</td>\n",
       "    </tr>\n",
       "    <tr>\n",
       "      <th>2115</th>\n",
       "      <td>#livechat now on! Need tips on PR or using twi...</td>\n",
       "      <td>0</td>\n",
       "      <td>119</td>\n",
       "    </tr>\n",
       "    <tr>\n",
       "      <th>3005</th>\n",
       "      <td>Good morning Tweet Tweet )) Just woke up , gon...</td>\n",
       "      <td>0</td>\n",
       "      <td>140</td>\n",
       "    </tr>\n",
       "    <tr>\n",
       "      <th>3176</th>\n",
       "      <td>@gleea i hate the game playing too.  that is w...</td>\n",
       "      <td>0</td>\n",
       "      <td>99</td>\n",
       "    </tr>\n",
       "  </tbody>\n",
       "</table>\n",
       "</div>"
      ],
      "text/plain": [
       "                                                   text  label  num_characters\n",
       "8424       i use video games to cope with my depression      1              44\n",
       "3209                        Goin out with my friends!!       0              27\n",
       "2115  #livechat now on! Need tips on PR or using twi...      0             119\n",
       "3005  Good morning Tweet Tweet )) Just woke up , gon...      0             140\n",
       "3176  @gleea i hate the game playing too.  that is w...      0              99"
      ]
     },
     "execution_count": 44,
     "metadata": {},
     "output_type": "execute_result"
    }
   ],
   "source": [
    "dataset.sample(5)"
   ]
  },
  {
   "cell_type": "code",
   "execution_count": 45,
   "metadata": {
    "colab": {
     "base_uri": "https://localhost:8080/"
    },
    "id": "MXy-vfYuz9R4",
    "outputId": "5ffcbb08-ba5f-45b2-af6f-5ce197ad7990"
   },
   "outputs": [
    {
     "data": {
      "text/plain": [
       "0        [just, had, a, real, good, moment, ., i, misss...\n",
       "1        [is, reading, manga, http, :, //plurk.com/p/mz...\n",
       "2        [@, comeagainjen, http, :, //twitpic.com/2y2lx...\n",
       "3        [@, lapcat, Need, to, send, 'em, to, my, accou...\n",
       "4        [ADD, ME, ON, MYSPACE, !, !, !, myspace.com/Lo...\n",
       "                               ...                        \n",
       "10309    [No, Depression, by, G, Herbo, is, my, mood, f...\n",
       "10310    [What, do, you, do, when, depression, succumbs...\n",
       "10311    [Ketamine, Nasal, Spray, Shows, Promise, Again...\n",
       "10312    [dont, mistake, a, bad, day, with, depression,...\n",
       "10313                                                  [0]\n",
       "Name: text, Length: 10283, dtype: object"
      ]
     },
     "execution_count": 45,
     "metadata": {},
     "output_type": "execute_result"
    }
   ],
   "source": [
    "# Number of words\n",
    "dataset['text'].apply(lambda x: nltk.word_tokenize(x))"
   ]
  },
  {
   "cell_type": "code",
   "execution_count": 46,
   "metadata": {
    "id": "xzJpChMt0bDj"
   },
   "outputs": [],
   "source": [
    "dataset['num_words'] = dataset['text'].apply(lambda x: len(nltk.word_tokenize(x)))"
   ]
  },
  {
   "cell_type": "code",
   "execution_count": 47,
   "metadata": {
    "colab": {
     "base_uri": "https://localhost:8080/",
     "height": 206
    },
    "id": "pbRZVBYP0lWR",
    "outputId": "312b05e4-0571-41a8-edc8-b3d5cb865cf4"
   },
   "outputs": [
    {
     "data": {
      "text/html": [
       "<div>\n",
       "<style scoped>\n",
       "    .dataframe tbody tr th:only-of-type {\n",
       "        vertical-align: middle;\n",
       "    }\n",
       "\n",
       "    .dataframe tbody tr th {\n",
       "        vertical-align: top;\n",
       "    }\n",
       "\n",
       "    .dataframe thead th {\n",
       "        text-align: right;\n",
       "    }\n",
       "</style>\n",
       "<table border=\"1\" class=\"dataframe\">\n",
       "  <thead>\n",
       "    <tr style=\"text-align: right;\">\n",
       "      <th></th>\n",
       "      <th>text</th>\n",
       "      <th>label</th>\n",
       "      <th>num_characters</th>\n",
       "      <th>num_words</th>\n",
       "    </tr>\n",
       "  </thead>\n",
       "  <tbody>\n",
       "    <tr>\n",
       "      <th>0</th>\n",
       "      <td>just had a real good moment. i missssssssss hi...</td>\n",
       "      <td>0</td>\n",
       "      <td>57</td>\n",
       "      <td>13</td>\n",
       "    </tr>\n",
       "    <tr>\n",
       "      <th>1</th>\n",
       "      <td>is reading manga  http://plurk.com/p/mzp1e</td>\n",
       "      <td>0</td>\n",
       "      <td>42</td>\n",
       "      <td>6</td>\n",
       "    </tr>\n",
       "    <tr>\n",
       "      <th>2</th>\n",
       "      <td>@comeagainjen http://twitpic.com/2y2lx - http:...</td>\n",
       "      <td>0</td>\n",
       "      <td>84</td>\n",
       "      <td>11</td>\n",
       "    </tr>\n",
       "    <tr>\n",
       "      <th>3</th>\n",
       "      <td>@lapcat Need to send 'em to my accountant tomo...</td>\n",
       "      <td>0</td>\n",
       "      <td>135</td>\n",
       "      <td>29</td>\n",
       "    </tr>\n",
       "    <tr>\n",
       "      <th>4</th>\n",
       "      <td>ADD ME ON MYSPACE!!!  myspace.com/LookThunder</td>\n",
       "      <td>0</td>\n",
       "      <td>45</td>\n",
       "      <td>8</td>\n",
       "    </tr>\n",
       "  </tbody>\n",
       "</table>\n",
       "</div>"
      ],
      "text/plain": [
       "                                                text  label  num_characters  \\\n",
       "0  just had a real good moment. i missssssssss hi...      0              57   \n",
       "1         is reading manga  http://plurk.com/p/mzp1e      0              42   \n",
       "2  @comeagainjen http://twitpic.com/2y2lx - http:...      0              84   \n",
       "3  @lapcat Need to send 'em to my accountant tomo...      0             135   \n",
       "4      ADD ME ON MYSPACE!!!  myspace.com/LookThunder      0              45   \n",
       "\n",
       "   num_words  \n",
       "0         13  \n",
       "1          6  \n",
       "2         11  \n",
       "3         29  \n",
       "4          8  "
      ]
     },
     "execution_count": 47,
     "metadata": {},
     "output_type": "execute_result"
    }
   ],
   "source": [
    "dataset.head()"
   ]
  },
  {
   "cell_type": "code",
   "execution_count": 48,
   "metadata": {},
   "outputs": [
    {
     "data": {
      "text/plain": [
       "\"got the magic numbers and is thanking y'all for the support \""
      ]
     },
     "execution_count": 48,
     "metadata": {},
     "output_type": "execute_result"
    }
   ],
   "source": [
    "dataset[dataset['label'] == 0]['text'].iloc[30]"
   ]
  },
  {
   "cell_type": "code",
   "execution_count": 49,
   "metadata": {
    "colab": {
     "base_uri": "https://localhost:8080/"
    },
    "id": "Ns-50bn-05_8",
    "outputId": "92a294cd-da5f-463e-f010-def513df2849"
   },
   "outputs": [
    {
     "data": {
      "text/plain": [
       "0        [just had a real good moment., i missssssssss ...\n",
       "1             [is reading manga  http://plurk.com/p/mzp1e]\n",
       "2        [@comeagainjen http://twitpic.com/2y2lx - http...\n",
       "3        [@lapcat Need to send 'em to my accountant tom...\n",
       "4          [ADD ME ON MYSPACE!!!, myspace.com/LookThunder]\n",
       "                               ...                        \n",
       "10309    [No Depression by G Herbo is my mood from now ...\n",
       "10310    [What do you do when depression succumbs the b...\n",
       "10311    [Ketamine Nasal Spray Shows Promise Against De...\n",
       "10312    [dont mistake a bad day with depression!, ever...\n",
       "10313                                                  [0]\n",
       "Name: text, Length: 10283, dtype: object"
      ]
     },
     "execution_count": 49,
     "metadata": {},
     "output_type": "execute_result"
    }
   ],
   "source": [
    "# Number of sentences\n",
    "dataset['text'].apply(lambda x: nltk.sent_tokenize(x))"
   ]
  },
  {
   "cell_type": "code",
   "execution_count": 50,
   "metadata": {
    "id": "1zrYg3c41IQQ"
   },
   "outputs": [],
   "source": [
    "dataset['num_sentences'] = dataset['text'].apply(lambda x: len(nltk.sent_tokenize(x)))"
   ]
  },
  {
   "cell_type": "code",
   "execution_count": 51,
   "metadata": {
    "colab": {
     "base_uri": "https://localhost:8080/",
     "height": 206
    },
    "id": "Tuz37UE_1S1R",
    "outputId": "727d0b30-0d2a-4905-f60e-efd6410edc71"
   },
   "outputs": [
    {
     "data": {
      "text/html": [
       "<div>\n",
       "<style scoped>\n",
       "    .dataframe tbody tr th:only-of-type {\n",
       "        vertical-align: middle;\n",
       "    }\n",
       "\n",
       "    .dataframe tbody tr th {\n",
       "        vertical-align: top;\n",
       "    }\n",
       "\n",
       "    .dataframe thead th {\n",
       "        text-align: right;\n",
       "    }\n",
       "</style>\n",
       "<table border=\"1\" class=\"dataframe\">\n",
       "  <thead>\n",
       "    <tr style=\"text-align: right;\">\n",
       "      <th></th>\n",
       "      <th>text</th>\n",
       "      <th>label</th>\n",
       "      <th>num_characters</th>\n",
       "      <th>num_words</th>\n",
       "      <th>num_sentences</th>\n",
       "    </tr>\n",
       "  </thead>\n",
       "  <tbody>\n",
       "    <tr>\n",
       "      <th>0</th>\n",
       "      <td>just had a real good moment. i missssssssss hi...</td>\n",
       "      <td>0</td>\n",
       "      <td>57</td>\n",
       "      <td>13</td>\n",
       "      <td>2</td>\n",
       "    </tr>\n",
       "    <tr>\n",
       "      <th>1</th>\n",
       "      <td>is reading manga  http://plurk.com/p/mzp1e</td>\n",
       "      <td>0</td>\n",
       "      <td>42</td>\n",
       "      <td>6</td>\n",
       "      <td>1</td>\n",
       "    </tr>\n",
       "    <tr>\n",
       "      <th>2</th>\n",
       "      <td>@comeagainjen http://twitpic.com/2y2lx - http:...</td>\n",
       "      <td>0</td>\n",
       "      <td>84</td>\n",
       "      <td>11</td>\n",
       "      <td>1</td>\n",
       "    </tr>\n",
       "    <tr>\n",
       "      <th>3</th>\n",
       "      <td>@lapcat Need to send 'em to my accountant tomo...</td>\n",
       "      <td>0</td>\n",
       "      <td>135</td>\n",
       "      <td>29</td>\n",
       "      <td>3</td>\n",
       "    </tr>\n",
       "    <tr>\n",
       "      <th>4</th>\n",
       "      <td>ADD ME ON MYSPACE!!!  myspace.com/LookThunder</td>\n",
       "      <td>0</td>\n",
       "      <td>45</td>\n",
       "      <td>8</td>\n",
       "      <td>2</td>\n",
       "    </tr>\n",
       "  </tbody>\n",
       "</table>\n",
       "</div>"
      ],
      "text/plain": [
       "                                                text  label  num_characters  \\\n",
       "0  just had a real good moment. i missssssssss hi...      0              57   \n",
       "1         is reading manga  http://plurk.com/p/mzp1e      0              42   \n",
       "2  @comeagainjen http://twitpic.com/2y2lx - http:...      0              84   \n",
       "3  @lapcat Need to send 'em to my accountant tomo...      0             135   \n",
       "4      ADD ME ON MYSPACE!!!  myspace.com/LookThunder      0              45   \n",
       "\n",
       "   num_words  num_sentences  \n",
       "0         13              2  \n",
       "1          6              1  \n",
       "2         11              1  \n",
       "3         29              3  \n",
       "4          8              2  "
      ]
     },
     "execution_count": 51,
     "metadata": {},
     "output_type": "execute_result"
    }
   ],
   "source": [
    "dataset.head()"
   ]
  },
  {
   "cell_type": "code",
   "execution_count": 52,
   "metadata": {
    "colab": {
     "base_uri": "https://localhost:8080/",
     "height": 300
    },
    "id": "ZTnFqff11l4r",
    "outputId": "db55dc20-9729-417d-956a-d9e5a7b58859"
   },
   "outputs": [
    {
     "data": {
      "text/html": [
       "<div>\n",
       "<style scoped>\n",
       "    .dataframe tbody tr th:only-of-type {\n",
       "        vertical-align: middle;\n",
       "    }\n",
       "\n",
       "    .dataframe tbody tr th {\n",
       "        vertical-align: top;\n",
       "    }\n",
       "\n",
       "    .dataframe thead th {\n",
       "        text-align: right;\n",
       "    }\n",
       "</style>\n",
       "<table border=\"1\" class=\"dataframe\">\n",
       "  <thead>\n",
       "    <tr style=\"text-align: right;\">\n",
       "      <th></th>\n",
       "      <th>num_characters</th>\n",
       "      <th>num_words</th>\n",
       "      <th>num_sentences</th>\n",
       "    </tr>\n",
       "  </thead>\n",
       "  <tbody>\n",
       "    <tr>\n",
       "      <th>count</th>\n",
       "      <td>10283.000000</td>\n",
       "      <td>10283.000000</td>\n",
       "      <td>10283.000000</td>\n",
       "    </tr>\n",
       "    <tr>\n",
       "      <th>mean</th>\n",
       "      <td>92.632889</td>\n",
       "      <td>18.956919</td>\n",
       "      <td>1.754546</td>\n",
       "    </tr>\n",
       "    <tr>\n",
       "      <th>std</th>\n",
       "      <td>64.688359</td>\n",
       "      <td>12.492378</td>\n",
       "      <td>1.027083</td>\n",
       "    </tr>\n",
       "    <tr>\n",
       "      <th>min</th>\n",
       "      <td>1.000000</td>\n",
       "      <td>1.000000</td>\n",
       "      <td>1.000000</td>\n",
       "    </tr>\n",
       "    <tr>\n",
       "      <th>25%</th>\n",
       "      <td>48.000000</td>\n",
       "      <td>10.000000</td>\n",
       "      <td>1.000000</td>\n",
       "    </tr>\n",
       "    <tr>\n",
       "      <th>50%</th>\n",
       "      <td>78.000000</td>\n",
       "      <td>16.000000</td>\n",
       "      <td>1.000000</td>\n",
       "    </tr>\n",
       "    <tr>\n",
       "      <th>75%</th>\n",
       "      <td>119.000000</td>\n",
       "      <td>25.000000</td>\n",
       "      <td>2.000000</td>\n",
       "    </tr>\n",
       "    <tr>\n",
       "      <th>max</th>\n",
       "      <td>874.000000</td>\n",
       "      <td>148.000000</td>\n",
       "      <td>17.000000</td>\n",
       "    </tr>\n",
       "  </tbody>\n",
       "</table>\n",
       "</div>"
      ],
      "text/plain": [
       "       num_characters     num_words  num_sentences\n",
       "count    10283.000000  10283.000000   10283.000000\n",
       "mean        92.632889     18.956919       1.754546\n",
       "std         64.688359     12.492378       1.027083\n",
       "min          1.000000      1.000000       1.000000\n",
       "25%         48.000000     10.000000       1.000000\n",
       "50%         78.000000     16.000000       1.000000\n",
       "75%        119.000000     25.000000       2.000000\n",
       "max        874.000000    148.000000      17.000000"
      ]
     },
     "execution_count": 52,
     "metadata": {},
     "output_type": "execute_result"
    }
   ],
   "source": [
    "dataset[['num_characters', 'num_words', 'num_sentences']].describe()"
   ]
  },
  {
   "cell_type": "code",
   "execution_count": 53,
   "metadata": {
    "colab": {
     "base_uri": "https://localhost:8080/",
     "height": 300
    },
    "id": "VChmpnXw2Hl3",
    "outputId": "31fd2d50-99f0-476d-9ab7-bdde7bfe6158"
   },
   "outputs": [
    {
     "data": {
      "text/html": [
       "<div>\n",
       "<style scoped>\n",
       "    .dataframe tbody tr th:only-of-type {\n",
       "        vertical-align: middle;\n",
       "    }\n",
       "\n",
       "    .dataframe tbody tr th {\n",
       "        vertical-align: top;\n",
       "    }\n",
       "\n",
       "    .dataframe thead th {\n",
       "        text-align: right;\n",
       "    }\n",
       "</style>\n",
       "<table border=\"1\" class=\"dataframe\">\n",
       "  <thead>\n",
       "    <tr style=\"text-align: right;\">\n",
       "      <th></th>\n",
       "      <th>num_characters</th>\n",
       "      <th>num_words</th>\n",
       "      <th>num_sentences</th>\n",
       "    </tr>\n",
       "  </thead>\n",
       "  <tbody>\n",
       "    <tr>\n",
       "      <th>count</th>\n",
       "      <td>7996.000000</td>\n",
       "      <td>7996.000000</td>\n",
       "      <td>7996.000000</td>\n",
       "    </tr>\n",
       "    <tr>\n",
       "      <th>mean</th>\n",
       "      <td>73.579290</td>\n",
       "      <td>16.163832</td>\n",
       "      <td>1.736368</td>\n",
       "    </tr>\n",
       "    <tr>\n",
       "      <th>std</th>\n",
       "      <td>35.860334</td>\n",
       "      <td>8.540448</td>\n",
       "      <td>0.967920</td>\n",
       "    </tr>\n",
       "    <tr>\n",
       "      <th>min</th>\n",
       "      <td>8.000000</td>\n",
       "      <td>1.000000</td>\n",
       "      <td>1.000000</td>\n",
       "    </tr>\n",
       "    <tr>\n",
       "      <th>25%</th>\n",
       "      <td>44.000000</td>\n",
       "      <td>9.000000</td>\n",
       "      <td>1.000000</td>\n",
       "    </tr>\n",
       "    <tr>\n",
       "      <th>50%</th>\n",
       "      <td>69.000000</td>\n",
       "      <td>15.000000</td>\n",
       "      <td>1.000000</td>\n",
       "    </tr>\n",
       "    <tr>\n",
       "      <th>75%</th>\n",
       "      <td>102.000000</td>\n",
       "      <td>22.000000</td>\n",
       "      <td>2.000000</td>\n",
       "    </tr>\n",
       "    <tr>\n",
       "      <th>max</th>\n",
       "      <td>232.000000</td>\n",
       "      <td>98.000000</td>\n",
       "      <td>17.000000</td>\n",
       "    </tr>\n",
       "  </tbody>\n",
       "</table>\n",
       "</div>"
      ],
      "text/plain": [
       "       num_characters    num_words  num_sentences\n",
       "count     7996.000000  7996.000000    7996.000000\n",
       "mean        73.579290    16.163832       1.736368\n",
       "std         35.860334     8.540448       0.967920\n",
       "min          8.000000     1.000000       1.000000\n",
       "25%         44.000000     9.000000       1.000000\n",
       "50%         69.000000    15.000000       1.000000\n",
       "75%        102.000000    22.000000       2.000000\n",
       "max        232.000000    98.000000      17.000000"
      ]
     },
     "execution_count": 53,
     "metadata": {},
     "output_type": "execute_result"
    }
   ],
   "source": [
    "# Normal Tweets\n",
    "dataset[dataset['label'] == 0][['num_characters', 'num_words', 'num_sentences']].describe()"
   ]
  },
  {
   "cell_type": "code",
   "execution_count": 54,
   "metadata": {
    "colab": {
     "base_uri": "https://localhost:8080/",
     "height": 300
    },
    "id": "NJA0ilbH2W93",
    "outputId": "8c962405-631d-4faa-e53e-e034d77385a1"
   },
   "outputs": [
    {
     "data": {
      "text/html": [
       "<div>\n",
       "<style scoped>\n",
       "    .dataframe tbody tr th:only-of-type {\n",
       "        vertical-align: middle;\n",
       "    }\n",
       "\n",
       "    .dataframe tbody tr th {\n",
       "        vertical-align: top;\n",
       "    }\n",
       "\n",
       "    .dataframe thead th {\n",
       "        text-align: right;\n",
       "    }\n",
       "</style>\n",
       "<table border=\"1\" class=\"dataframe\">\n",
       "  <thead>\n",
       "    <tr style=\"text-align: right;\">\n",
       "      <th></th>\n",
       "      <th>num_characters</th>\n",
       "      <th>num_words</th>\n",
       "      <th>num_sentences</th>\n",
       "    </tr>\n",
       "  </thead>\n",
       "  <tbody>\n",
       "    <tr>\n",
       "      <th>count</th>\n",
       "      <td>2287.000000</td>\n",
       "      <td>2287.000000</td>\n",
       "      <td>2287.000000</td>\n",
       "    </tr>\n",
       "    <tr>\n",
       "      <th>mean</th>\n",
       "      <td>159.249672</td>\n",
       "      <td>28.722344</td>\n",
       "      <td>1.818102</td>\n",
       "    </tr>\n",
       "    <tr>\n",
       "      <th>std</th>\n",
       "      <td>92.813769</td>\n",
       "      <td>18.003823</td>\n",
       "      <td>1.209530</td>\n",
       "    </tr>\n",
       "    <tr>\n",
       "      <th>min</th>\n",
       "      <td>1.000000</td>\n",
       "      <td>1.000000</td>\n",
       "      <td>1.000000</td>\n",
       "    </tr>\n",
       "    <tr>\n",
       "      <th>25%</th>\n",
       "      <td>87.000000</td>\n",
       "      <td>15.000000</td>\n",
       "      <td>1.000000</td>\n",
       "    </tr>\n",
       "    <tr>\n",
       "      <th>50%</th>\n",
       "      <td>139.000000</td>\n",
       "      <td>24.000000</td>\n",
       "      <td>1.000000</td>\n",
       "    </tr>\n",
       "    <tr>\n",
       "      <th>75%</th>\n",
       "      <td>232.000000</td>\n",
       "      <td>41.000000</td>\n",
       "      <td>2.000000</td>\n",
       "    </tr>\n",
       "    <tr>\n",
       "      <th>max</th>\n",
       "      <td>874.000000</td>\n",
       "      <td>148.000000</td>\n",
       "      <td>10.000000</td>\n",
       "    </tr>\n",
       "  </tbody>\n",
       "</table>\n",
       "</div>"
      ],
      "text/plain": [
       "       num_characters    num_words  num_sentences\n",
       "count     2287.000000  2287.000000    2287.000000\n",
       "mean       159.249672    28.722344       1.818102\n",
       "std         92.813769    18.003823       1.209530\n",
       "min          1.000000     1.000000       1.000000\n",
       "25%         87.000000    15.000000       1.000000\n",
       "50%        139.000000    24.000000       1.000000\n",
       "75%        232.000000    41.000000       2.000000\n",
       "max        874.000000   148.000000      10.000000"
      ]
     },
     "execution_count": 54,
     "metadata": {},
     "output_type": "execute_result"
    }
   ],
   "source": [
    "# Depressive Tweets\n",
    "dataset[dataset['label'] == 1][['num_characters', 'num_words', 'num_sentences']].describe()"
   ]
  },
  {
   "cell_type": "code",
   "execution_count": 55,
   "metadata": {
    "id": "pWiR66mA3Bs2"
   },
   "outputs": [],
   "source": [
    "import seaborn as sns"
   ]
  },
  {
   "cell_type": "code",
   "execution_count": 56,
   "metadata": {
    "colab": {
     "base_uri": "https://localhost:8080/",
     "height": 467
    },
    "id": "jrqQUl3w3FSN",
    "outputId": "5757bfd4-92ae-45ed-994a-550abc3fe28e"
   },
   "outputs": [
    {
     "data": {
      "text/plain": [
       "<AxesSubplot:xlabel='num_characters', ylabel='Count'>"
      ]
     },
     "execution_count": 56,
     "metadata": {},
     "output_type": "execute_result"
    },
    {
     "data": {
      "image/png": "[encoded data removed]",
      "text/plain": [
       "<Figure size 432x288 with 1 Axes>"
      ]
     },
     "metadata": {
      "needs_background": "light"
     },
     "output_type": "display_data"
    }
   ],
   "source": [
    "sns.histplot(dataset[dataset['label'] == 0]['num_characters'])\n",
    "sns.histplot(dataset[dataset['label'] == 1]['num_characters'], color='red')"
   ]
  },
  {
   "cell_type": "code",
   "execution_count": 57,
   "metadata": {
    "colab": {
     "base_uri": "https://localhost:8080/",
     "height": 467
    },
    "id": "HbQANQ7_3jEx",
    "outputId": "ddf2608d-e515-4792-b046-34ca3d0ed100"
   },
   "outputs": [
    {
     "data": {
      "text/plain": [
       "<AxesSubplot:xlabel='num_words', ylabel='Count'>"
      ]
     },
     "execution_count": 57,
     "metadata": {},
     "output_type": "execute_result"
    },
    {
     "data": {
      "image/png": "[encoded data removed]",
      "text/plain": [
       "<Figure size 432x288 with 1 Axes>"
      ]
     },
     "metadata": {
      "needs_background": "light"
     },
     "output_type": "display_data"
    }
   ],
   "source": [
    "sns.histplot(dataset[dataset['label'] == 0]['num_words'])\n",
    "sns.histplot(dataset[dataset['label'] == 1]['num_words'], color='red')"
   ]
  },
  {
   "cell_type": "code",
   "execution_count": 58,
   "metadata": {
    "colab": {
     "base_uri": "https://localhost:8080/",
     "height": 775
    },
    "id": "PH1yGqXG3o1U",
    "outputId": "c70b3be2-bb42-4562-90c2-b3719961ff48"
   },
   "outputs": [
    {
     "data": {
      "text/plain": [
       "<seaborn.axisgrid.PairGrid at 0x1a828964b20>"
      ]
     },
     "execution_count": 58,
     "metadata": {},
     "output_type": "execute_result"
    },
    {
     "data": {
      "image/png": "[encoded data removed]",
      "text/plain": [
       "<Figure size 582.375x540 with 12 Axes>"
      ]
     },
     "metadata": {
      "needs_background": "light"
     },
     "output_type": "display_data"
    }
   ],
   "source": [
    "sns.pairplot(dataset,hue='label')"
   ]
  },
  {
   "cell_type": "code",
   "execution_count": 59,
   "metadata": {
    "colab": {
     "base_uri": "https://localhost:8080/",
     "height": 507
    },
    "id": "XKoU03_-4qDm",
    "outputId": "c864126e-bc41-4bac-bcc9-6261b1b08f95"
   },
   "outputs": [
    {
     "data": {
      "text/plain": [
       "<AxesSubplot:>"
      ]
     },
     "execution_count": 59,
     "metadata": {},
     "output_type": "execute_result"
    },
    {
     "data": {
      "image/png": "[encoded data removed]",
      "text/plain": [
       "<Figure size 432x288 with 2 Axes>"
      ]
     },
     "metadata": {
      "needs_background": "light"
     },
     "output_type": "display_data"
    }
   ],
   "source": [
    "sns.heatmap(dataset.corr(), annot=True)"
   ]
  },
  {
   "cell_type": "markdown",
   "metadata": {
    "id": "lu1kEo51UZuZ"
   },
   "source": [
    "## 3. Data Preprocessing\n",
    "\n",
    "*   Lower Case\n",
    "*   Removing special characters\n",
    "*   Removing stopwords and punctuations\n",
    "*   Stemming\n",
    "\n",
    "\n",
    "\n"
   ]
  },
  {
   "cell_type": "code",
   "execution_count": 60,
   "metadata": {
    "colab": {
     "base_uri": "https://localhost:8080/"
    },
    "id": "f1f1m475gVK4",
    "outputId": "f23ef128-b7a4-4c29-8d1f-b73194f8f400"
   },
   "outputs": [
    {
     "name": "stderr",
     "output_type": "stream",
     "text": [
      "[nltk_data] Downloading package stopwords to\n",
      "[nltk_data]     C:\\Users\\Moinul\\AppData\\Roaming\\nltk_data...\n",
      "[nltk_data]   Package stopwords is already up-to-date!\n"
     ]
    }
   ],
   "source": [
    "import re\n",
    "import nltk\n",
    "nltk.download('stopwords')\n",
    "from nltk.corpus import stopwords\n",
    "from nltk.stem.porter import PorterStemmer"
   ]
  },
  {
   "cell_type": "code",
   "execution_count": 61,
   "metadata": {
    "colab": {
     "base_uri": "https://localhost:8080/"
    },
    "id": "Y5OGKHJPN9Tl",
    "outputId": "38fde9bd-a54d-4095-b87e-e3c52528aa7e"
   },
   "outputs": [
    {
     "name": "stdout",
     "output_type": "stream",
     "text": [
      "['i', 'me', 'my', 'myself', 'we', 'our', 'ours', 'ourselves', 'you', \"you're\", \"you've\", \"you'll\", \"you'd\", 'your', 'yours', 'yourself', 'yourselves', 'he', 'him', 'his', 'himself', 'she', \"she's\", 'her', 'hers', 'herself', 'it', \"it's\", 'its', 'itself', 'they', 'them', 'their', 'theirs', 'themselves', 'what', 'which', 'who', 'whom', 'this', 'that', \"that'll\", 'these', 'those', 'am', 'is', 'are', 'was', 'were', 'be', 'been', 'being', 'have', 'has', 'had', 'having', 'do', 'does', 'did', 'doing', 'a', 'an', 'the', 'and', 'but', 'if', 'or', 'because', 'as', 'until', 'while', 'of', 'at', 'by', 'for', 'with', 'about', 'against', 'between', 'into', 'through', 'during', 'before', 'after', 'above', 'below', 'to', 'from', 'up', 'down', 'in', 'out', 'on', 'off', 'over', 'under', 'again', 'further', 'then', 'once', 'here', 'there', 'when', 'where', 'why', 'how', 'all', 'any', 'both', 'each', 'few', 'more', 'most', 'other', 'some', 'such', 'no', 'nor', 'not', 'only', 'own', 'same', 'so', 'than', 'too', 'very', 's', 't', 'can', 'will', 'just', 'don', \"don't\", 'should', \"should've\", 'now', 'd', 'll', 'm', 'o', 're', 've', 'y', 'ain', 'aren', \"aren't\", 'couldn', \"couldn't\", 'didn', \"didn't\", 'doesn', \"doesn't\", 'hadn', \"hadn't\", 'hasn', \"hasn't\", 'haven', \"haven't\", 'isn', \"isn't\", 'ma', 'mightn', \"mightn't\", 'mustn', \"mustn't\", 'needn', \"needn't\", 'shan', \"shan't\", 'shouldn', \"shouldn't\", 'wasn', \"wasn't\", 'weren', \"weren't\", 'won', \"won't\", 'wouldn', \"wouldn't\"]\n"
     ]
    }
   ],
   "source": [
    "print(stopwords.words('english'))"
   ]
  },
  {
   "cell_type": "code",
   "execution_count": 62,
   "metadata": {
    "id": "1kIzl76_jOf2"
   },
   "outputs": [],
   "source": [
    "def preprocess_text(text):\n",
    "    text = re.sub('@\\S+|https?:\\S+|http?:\\S|[^A-Za-z0-9]', ' ', text)\n",
    "    text = text.lower()  # Convert text to lowercase\n",
    "    ps = PorterStemmer()  # Initialize Porter Stemmer\n",
    "    all_stopwords = set(stopwords.words('english'))  # Get all English stopwords\n",
    "    words = text.split()  # Split text into words\n",
    "    cleaned_words = [ps.stem(word) for word in words if word not in all_stopwords]  # Apply stemming and remove stopwords\n",
    "    cleaned_text = ' '.join(cleaned_words)  # Join cleaned words back into text\n",
    "    return cleaned_text\n"
   ]
  },
  {
   "cell_type": "code",
   "execution_count": 63,
   "metadata": {
    "colab": {
     "base_uri": "https://localhost:8080/",
     "height": 35
    },
    "id": "N6I0RRNnH2gl",
    "outputId": "072cfa6e-7e4c-4390-87c4-925582718954"
   },
   "outputs": [
    {
     "data": {
      "text/plain": [
       "'read manga'"
      ]
     },
     "execution_count": 63,
     "metadata": {},
     "output_type": "execute_result"
    }
   ],
   "source": [
    "preprocess_text(dataset['text'][1])"
   ]
  },
  {
   "cell_type": "code",
   "execution_count": 64,
   "metadata": {
    "colab": {
     "base_uri": "https://localhost:8080/",
     "height": 35
    },
    "id": "Sr6GErKaSqUU",
    "outputId": "57a8b716-1f06-4455-9eb2-225890bf08d9"
   },
   "outputs": [
    {
     "data": {
      "text/plain": [
       "'is reading manga  http://plurk.com/p/mzp1e'"
      ]
     },
     "execution_count": 64,
     "metadata": {},
     "output_type": "execute_result"
    }
   ],
   "source": [
    "dataset['text'][1]"
   ]
  },
  {
   "cell_type": "code",
   "execution_count": 65,
   "metadata": {
    "id": "T_KG8mpyTvt0"
   },
   "outputs": [],
   "source": [
    "dataset['transformed_text'] = dataset['text'].apply(preprocess_text)"
   ]
  },
  {
   "cell_type": "code",
   "execution_count": 66,
   "metadata": {
    "colab": {
     "base_uri": "https://localhost:8080/"
    },
    "id": "Npc9hqRlkbZ7",
    "outputId": "043bbb1f-51b0-4bad-a701-b71bfbddcfdd"
   },
   "outputs": [
    {
     "data": {
      "text/plain": [
       "0                       real good moment missssssssss much\n",
       "1                                               read manga\n",
       "2                                                         \n",
       "3        need send em account tomorrow oddli even refer...\n",
       "4                          add myspac myspac com lookthund\n",
       "                               ...                        \n",
       "10309        depress g herbo mood done stress peopl deserv\n",
       "10310    depress succumb brain make feel like never enough\n",
       "10311    ketamin nasal spray show promis depress suicid...\n",
       "10312               dont mistak bad day depress everyon em\n",
       "10313                                                    0\n",
       "Name: transformed_text, Length: 10283, dtype: object"
      ]
     },
     "execution_count": 66,
     "metadata": {},
     "output_type": "execute_result"
    }
   ],
   "source": [
    "dataset['transformed_text']"
   ]
  },
  {
   "cell_type": "code",
   "execution_count": 67,
   "metadata": {},
   "outputs": [
    {
     "data": {
      "text/plain": [
       "'just had a real good moment. i missssssssss him so much, '"
      ]
     },
     "execution_count": 67,
     "metadata": {},
     "output_type": "execute_result"
    }
   ],
   "source": [
    "dataset['text'][0]"
   ]
  },
  {
   "cell_type": "code",
   "execution_count": 68,
   "metadata": {},
   "outputs": [
    {
     "data": {
      "text/plain": [
       "'real good moment missssssssss much'"
      ]
     },
     "execution_count": 68,
     "metadata": {},
     "output_type": "execute_result"
    }
   ],
   "source": [
    "dataset['transformed_text'][0]"
   ]
  },
  {
   "cell_type": "code",
   "execution_count": 69,
   "metadata": {
    "colab": {
     "base_uri": "https://localhost:8080/",
     "height": 206
    },
    "id": "xr6VMdnGaDNU",
    "outputId": "16a97ec2-9777-4925-aa53-9bc33fa7856a"
   },
   "outputs": [
    {
     "data": {
      "text/html": [
       "<div>\n",
       "<style scoped>\n",
       "    .dataframe tbody tr th:only-of-type {\n",
       "        vertical-align: middle;\n",
       "    }\n",
       "\n",
       "    .dataframe tbody tr th {\n",
       "        vertical-align: top;\n",
       "    }\n",
       "\n",
       "    .dataframe thead th {\n",
       "        text-align: right;\n",
       "    }\n",
       "</style>\n",
       "<table border=\"1\" class=\"dataframe\">\n",
       "  <thead>\n",
       "    <tr style=\"text-align: right;\">\n",
       "      <th></th>\n",
       "      <th>text</th>\n",
       "      <th>label</th>\n",
       "      <th>transformed_text</th>\n",
       "    </tr>\n",
       "  </thead>\n",
       "  <tbody>\n",
       "    <tr>\n",
       "      <th>8781</th>\n",
       "      <td>me after taking a depression nap  https://twit...</td>\n",
       "      <td>1</td>\n",
       "      <td>take depress nap</td>\n",
       "    </tr>\n",
       "    <tr>\n",
       "      <th>9082</th>\n",
       "      <td>My life is just one long anxiety attack strewn...</td>\n",
       "      <td>1</td>\n",
       "      <td>life one long anxieti attack strewn depress et...</td>\n",
       "    </tr>\n",
       "    <tr>\n",
       "      <th>8488</th>\n",
       "      <td>@jbouie Reading his other tweets, he is trying...</td>\n",
       "      <td>1</td>\n",
       "      <td>read tweet tri think posit get mild depress funk</td>\n",
       "    </tr>\n",
       "    <tr>\n",
       "      <th>7583</th>\n",
       "      <td>June Rent Free!   @ http://twtqpon.com/21wc2g ...</td>\n",
       "      <td>0</td>\n",
       "      <td>june rent free twtqpon</td>\n",
       "    </tr>\n",
       "    <tr>\n",
       "      <th>5878</th>\n",
       "      <td>@TyCity yes, thank you for refreshing my memory.</td>\n",
       "      <td>0</td>\n",
       "      <td>ye thank refresh memori</td>\n",
       "    </tr>\n",
       "  </tbody>\n",
       "</table>\n",
       "</div>"
      ],
      "text/plain": [
       "                                                   text  label  \\\n",
       "8781  me after taking a depression nap  https://twit...      1   \n",
       "9082  My life is just one long anxiety attack strewn...      1   \n",
       "8488  @jbouie Reading his other tweets, he is trying...      1   \n",
       "7583  June Rent Free!   @ http://twtqpon.com/21wc2g ...      0   \n",
       "5878  @TyCity yes, thank you for refreshing my memory.       0   \n",
       "\n",
       "                                       transformed_text  \n",
       "8781                                   take depress nap  \n",
       "9082  life one long anxieti attack strewn depress et...  \n",
       "8488   read tweet tri think posit get mild depress funk  \n",
       "7583                             june rent free twtqpon  \n",
       "5878                            ye thank refresh memori  "
      ]
     },
     "execution_count": 69,
     "metadata": {},
     "output_type": "execute_result"
    }
   ],
   "source": [
    "dataset[['text', 'label', 'transformed_text']].sample(5)"
   ]
  },
  {
   "cell_type": "markdown",
   "metadata": {
    "id": "omND8ggxkoQW"
   },
   "source": [
    "### WordCloud Visualization"
   ]
  },
  {
   "cell_type": "code",
   "execution_count": 70,
   "metadata": {
    "id": "6c8FvcoAqWGy"
   },
   "outputs": [],
   "source": [
    "from wordcloud import WordCloud\n",
    "wc = WordCloud(width=1500,height=1000,min_font_size=10)"
   ]
  },
  {
   "cell_type": "code",
   "execution_count": 71,
   "metadata": {
    "colab": {
     "base_uri": "https://localhost:8080/",
     "height": 413
    },
    "id": "6Cp91qJnkceh",
    "outputId": "99205de3-0d47-417c-c1d1-522cfab8cd59"
   },
   "outputs": [
    {
     "data": {
      "text/plain": [
       "<matplotlib.image.AxesImage at 0x1a82cc73940>"
      ]
     },
     "execution_count": 71,
     "metadata": {},
     "output_type": "execute_result"
    },
    {
     "data": {
      "image/png": "[encoded data removed]",
      "text/plain": [
       "<Figure size 432x288 with 1 Axes>"
      ]
     },
     "metadata": {
      "needs_background": "light"
     },
     "output_type": "display_data"
    }
   ],
   "source": [
    "# Normal Tweets\n",
    "normal_wc = wc.generate(dataset[dataset['label'] == 0]['transformed_text'].str.cat(sep=\" \"))\n",
    "plt.imshow(normal_wc)"
   ]
  },
  {
   "cell_type": "code",
   "execution_count": 72,
   "metadata": {
    "colab": {
     "base_uri": "https://localhost:8080/",
     "height": 413
    },
    "id": "v7miKK2mq4OP",
    "outputId": "32dfd453-03ca-4e55-eb93-8e6eb7fead38"
   },
   "outputs": [
    {
     "data": {
      "text/plain": [
       "<matplotlib.image.AxesImage at 0x1a82b76f220>"
      ]
     },
     "execution_count": 72,
     "metadata": {},
     "output_type": "execute_result"
    },
    {
     "data": {
      "image/png": "[encoded data removed]",
      "text/plain": [
       "<Figure size 432x288 with 1 Axes>"
      ]
     },
     "metadata": {
      "needs_background": "light"
     },
     "output_type": "display_data"
    }
   ],
   "source": [
    "# Depressive Tweets\n",
    "depress_wc = wc.generate(dataset[dataset['label'] == 0]['transformed_text'].str.cat(sep=\" \"))\n",
    "plt.imshow(depress_wc)"
   ]
  },
  {
   "cell_type": "code",
   "execution_count": 73,
   "metadata": {
    "id": "VO3Lm0uDQFqF"
   },
   "outputs": [],
   "source": [
    "normal_corpus = []\n",
    "for msg in dataset[dataset['label'] == 0]['transformed_text'].tolist():\n",
    "  for word in msg.split():\n",
    "    normal_corpus.append(word)"
   ]
  },
  {
   "cell_type": "code",
   "execution_count": 74,
   "metadata": {
    "colab": {
     "base_uri": "https://localhost:8080/"
    },
    "id": "Vb6vjOVTQue9",
    "outputId": "3a215136-58b7-407a-d891-462bbcbd854d"
   },
   "outputs": [
    {
     "data": {
      "text/plain": [
       "55782"
      ]
     },
     "execution_count": 74,
     "metadata": {},
     "output_type": "execute_result"
    }
   ],
   "source": [
    "len(normal_corpus)"
   ]
  },
  {
   "cell_type": "code",
   "execution_count": 75,
   "metadata": {
    "id": "mckpQSy5Q29a"
   },
   "outputs": [],
   "source": [
    "from collections import Counter\n",
    "df1 = pd.DataFrame(Counter(normal_corpus).most_common(30))"
   ]
  },
  {
   "cell_type": "code",
   "execution_count": 76,
   "metadata": {
    "colab": {
     "base_uri": "https://localhost:8080/",
     "height": 475
    },
    "id": "n1Hoo-47RW1t",
    "outputId": "527ef918-463b-4b88-9b59-cc4973196f1b"
   },
   "outputs": [
    {
     "data": {
      "image/png": "[encoded data removed]",
      "text/plain": [
       "<Figure size 432x288 with 1 Axes>"
      ]
     },
     "metadata": {
      "needs_background": "light"
     },
     "output_type": "display_data"
    }
   ],
   "source": [
    "sns.barplot(x=df1[0], y=df1[1])\n",
    "plt.xticks(rotation='vertical')\n",
    "plt.show()"
   ]
  },
  {
   "cell_type": "code",
   "execution_count": 77,
   "metadata": {
    "id": "eugSjKCWSDa_"
   },
   "outputs": [],
   "source": [
    "depress_corpus = []\n",
    "for msg in dataset[dataset['label'] == 1]['transformed_text'].tolist():\n",
    "  for word in msg.split():\n",
    "    depress_corpus.append(word)"
   ]
  },
  {
   "cell_type": "code",
   "execution_count": 78,
   "metadata": {
    "colab": {
     "base_uri": "https://localhost:8080/"
    },
    "id": "Stn21ciYSLGf",
    "outputId": "e30bf29f-4f1b-46b3-be1e-1a67c7a935ef"
   },
   "outputs": [
    {
     "data": {
      "text/plain": [
       "30159"
      ]
     },
     "execution_count": 78,
     "metadata": {},
     "output_type": "execute_result"
    }
   ],
   "source": [
    "len(depress_corpus)"
   ]
  },
  {
   "cell_type": "code",
   "execution_count": 79,
   "metadata": {
    "id": "iJWzYwHjSSEr"
   },
   "outputs": [],
   "source": [
    "df2 = pd.DataFrame(Counter(depress_corpus).most_common(30))"
   ]
  },
  {
   "cell_type": "code",
   "execution_count": 80,
   "metadata": {
    "colab": {
     "base_uri": "https://localhost:8080/",
     "height": 477
    },
    "id": "S53EcqL2SVz8",
    "outputId": "e3816f24-da4b-4e7f-db1e-a202612eda14"
   },
   "outputs": [
    {
     "data": {
      "image/png": "[encoded data removed]",
      "text/plain": [
       "<Figure size 432x288 with 1 Axes>"
      ]
     },
     "metadata": {
      "needs_background": "light"
     },
     "output_type": "display_data"
    }
   ],
   "source": [
    "sns.barplot(x=df2[0],y=df2[1])\n",
    "plt.xticks(rotation='vertical')\n",
    "plt.show()"
   ]
  },
  {
   "cell_type": "markdown",
   "metadata": {
    "id": "QnhSzV2xSwvC"
   },
   "source": [
    "## 4. Model Building"
   ]
  },
  {
   "cell_type": "code",
   "execution_count": 81,
   "metadata": {
    "id": "dFkS_fphSzVu"
   },
   "outputs": [],
   "source": [
    "# Bag of Words\n",
    "from sklearn.feature_extraction.text import CountVectorizer, TfidfVectorizer\n",
    "cv = CountVectorizer()\n",
    "# tfidf\n",
    "tfidf = TfidfVectorizer()"
   ]
  },
  {
   "cell_type": "code",
   "execution_count": 82,
   "metadata": {
    "colab": {
     "base_uri": "https://localhost:8080/"
    },
    "id": "cB3AXeAbQ-Aq",
    "outputId": "f9ab6c1a-760e-4d3e-ccf6-3fbbdc506b66",
    "scrolled": true
   },
   "outputs": [
    {
     "data": {
      "text/plain": [
       "text                0\n",
       "label               0\n",
       "num_characters      0\n",
       "num_words           0\n",
       "num_sentences       0\n",
       "transformed_text    0\n",
       "dtype: int64"
      ]
     },
     "execution_count": 82,
     "metadata": {},
     "output_type": "execute_result"
    }
   ],
   "source": [
    "dataset.isnull().sum()"
   ]
  },
  {
   "cell_type": "code",
   "execution_count": 83,
   "metadata": {
    "colab": {
     "base_uri": "https://localhost:8080/"
    },
    "id": "G5biac_pznMm",
    "outputId": "2432ba5d-66f9-4773-8bad-f0877681b69c"
   },
   "outputs": [
    {
     "data": {
      "text/plain": [
       "0                       real good moment missssssssss much\n",
       "1                                               read manga\n",
       "2                                                         \n",
       "3        need send em account tomorrow oddli even refer...\n",
       "4                          add myspac myspac com lookthund\n",
       "                               ...                        \n",
       "10309        depress g herbo mood done stress peopl deserv\n",
       "10310    depress succumb brain make feel like never enough\n",
       "10311    ketamin nasal spray show promis depress suicid...\n",
       "10312               dont mistak bad day depress everyon em\n",
       "10313                                                    0\n",
       "Name: transformed_text, Length: 10283, dtype: object"
      ]
     },
     "execution_count": 83,
     "metadata": {},
     "output_type": "execute_result"
    }
   ],
   "source": [
    "dataset['transformed_text']"
   ]
  },
  {
   "cell_type": "code",
   "execution_count": 84,
   "metadata": {
    "id": "yZlXchgVTbYq"
   },
   "outputs": [],
   "source": [
    "X = tfidf.fit_transform(dataset['transformed_text']).toarray()"
   ]
  },
  {
   "cell_type": "code",
   "execution_count": 85,
   "metadata": {
    "id": "zRVK1hKWTj7C"
   },
   "outputs": [
    {
     "data": {
      "text/plain": [
       "(10283, 12363)"
      ]
     },
     "execution_count": 85,
     "metadata": {},
     "output_type": "execute_result"
    }
   ],
   "source": [
    "X.shape"
   ]
  },
  {
   "cell_type": "code",
   "execution_count": 86,
   "metadata": {
    "id": "gVGSncIITnDf"
   },
   "outputs": [],
   "source": [
    "y = dataset['label'].values"
   ]
  },
  {
   "cell_type": "code",
   "execution_count": 87,
   "metadata": {
    "id": "PkTZ4ytlznMn"
   },
   "outputs": [
    {
     "data": {
      "text/plain": [
       "{'real': 8988,\n",
       " 'good': 4633,\n",
       " 'moment': 7243,\n",
       " 'missssssssss': 7181,\n",
       " 'much': 7372,\n",
       " 'read': 8982,\n",
       " 'manga': 6810,\n",
       " 'need': 7547,\n",
       " 'send': 9664,\n",
       " 'em': 3601,\n",
       " 'account': 480,\n",
       " 'tomorrow': 11015,\n",
       " 'oddli': 7837,\n",
       " 'even': 3772,\n",
       " 'refer': 9056,\n",
       " 'tax': 10709,\n",
       " 'support': 10541,\n",
       " 'evid': 3790,\n",
       " 'though': 10883,\n",
       " 'add': 513,\n",
       " 'myspac': 7450,\n",
       " 'com': 2428,\n",
       " 'lookthund': 6598,\n",
       " 'sleepi': 9968,\n",
       " 'time': 10939,\n",
       " 'tonight': 11025,\n",
       " 'nbn': 7530,\n",
       " 'someon': 10106,\n",
       " 'alreadi': 706,\n",
       " 'said': 9437,\n",
       " 'fiber': 4044,\n",
       " 'home': 5230,\n",
       " 'mean': 6943,\n",
       " 'least': 6370,\n",
       " 'regular': 9078,\n",
       " '23': 130,\n",
       " '24': 133,\n",
       " 'possibl': 8557,\n",
       " 'today': 10987,\n",
       " 'nice': 7620,\n",
       " 'nite': 7666,\n",
       " 'twittervil': 11274,\n",
       " 'workout': 12024,\n",
       " 'ciao': 2275,\n",
       " 'night': 7635,\n",
       " 'darlin': 2893,\n",
       " 'sweet': 10590,\n",
       " 'dream': 3384,\n",
       " 'morn': 7299,\n",
       " 'everybodi': 3782,\n",
       " 'final': 4076,\n",
       " 'creat': 2702,\n",
       " 'wordpress': 12014,\n",
       " 'blog': 1531,\n",
       " 'seattl': 9611,\n",
       " 'coffe': 2393,\n",
       " 'commun': 2454,\n",
       " 'kisha': 6158,\n",
       " 'cnt': 2369,\n",
       " 'get': 4511,\n",
       " 'til': 10934,\n",
       " 'frm': 4324,\n",
       " 'rememb': 9120,\n",
       " 'ur': 11447,\n",
       " 'top': 11041,\n",
       " 'ye': 12184,\n",
       " 'band': 1197,\n",
       " 'awesom': 1084,\n",
       " 'pleas': 8449,\n",
       " 'repli': 9140,\n",
       " 'realli': 8993,\n",
       " 'love': 6638,\n",
       " 'reflect': 9060,\n",
       " 'shadow': 9726,\n",
       " 'ooo': 7939,\n",
       " 'fantasi': 3943,\n",
       " 'like': 6471,\n",
       " 'novel': 7748,\n",
       " 'check': 2153,\n",
       " 'prob': 8669,\n",
       " 'sell': 9654,\n",
       " 'noth': 7737,\n",
       " 'listen': 6509,\n",
       " 'itun': 5771,\n",
       " 'quot': 8869,\n",
       " 'nokla': 7692,\n",
       " 'connect': 2521,\n",
       " 'peopl': 8279,\n",
       " 'stay': 10322,\n",
       " 'late': 6314,\n",
       " 'start': 10304,\n",
       " 'earli': 3487,\n",
       " 'thing': 10864,\n",
       " 'job': 5890,\n",
       " 'new': 7593,\n",
       " 'congratul': 2518,\n",
       " 'fantast': 3944,\n",
       " 'abl': 442,\n",
       " 'sleep': 9965,\n",
       " 'think': 10866,\n",
       " 'watch': 11742,\n",
       " 'ugli': 11314,\n",
       " 'betti': 1401,\n",
       " 'onlin': 7924,\n",
       " 'woo': 11988,\n",
       " 'thank': 10818,\n",
       " 'ron': 9329,\n",
       " 'steev': 10328,\n",
       " 'follow': 4192,\n",
       " 'yeow': 12215,\n",
       " 'folowerssss': 4201,\n",
       " 'haha': 4862,\n",
       " 'wanna': 11709,\n",
       " 'got': 4668,\n",
       " 'ellen': 3593,\n",
       " 'show': 9830,\n",
       " 'yeah': 12192,\n",
       " 'sure': 10550,\n",
       " 'sister': 9918,\n",
       " 'take': 10661,\n",
       " 'extra': 3864,\n",
       " 'gd': 4463,\n",
       " 'care': 1990,\n",
       " 'yay': 12173,\n",
       " 'duck': 3430,\n",
       " 'want': 11710,\n",
       " 'anyth': 855,\n",
       " 'lol': 6568,\n",
       " 'smaaack': 10000,\n",
       " 'ass': 972,\n",
       " 'hahhahahaa': 4881,\n",
       " 'make': 6776,\n",
       " 'laugh': 6327,\n",
       " 'oooooh': 7946,\n",
       " 'sleeeep': 9963,\n",
       " 'ahha': 601,\n",
       " 'niit': 7653,\n",
       " 'goodnight': 4640,\n",
       " 'twittervers': 11273,\n",
       " 'xoxo': 12125,\n",
       " 'look': 6594,\n",
       " 'forward': 4243,\n",
       " 'meet': 6972,\n",
       " 'pastor': 8183,\n",
       " 'kong': 6200,\n",
       " 'jw': 5995,\n",
       " 'later': 6316,\n",
       " 'know': 6188,\n",
       " 'minichocol': 7150,\n",
       " 'shape': 9746,\n",
       " 'liquor': 6504,\n",
       " 'bottl': 1646,\n",
       " 'liqour': 6502,\n",
       " 'insid': 5640,\n",
       " 'test': 10799,\n",
       " 'see': 9627,\n",
       " 'twitter': 11262,\n",
       " 'work': 12016,\n",
       " 'thro': 10898,\n",
       " 'facebook': 3895,\n",
       " 'babi': 1126,\n",
       " 'vh1': 11563,\n",
       " 'pic': 8367,\n",
       " 'magic': 6749,\n",
       " 'number': 7772,\n",
       " 'cold': 2403,\n",
       " 'man': 6798,\n",
       " 'weather': 11771,\n",
       " 'ok': 7873,\n",
       " 'guy': 4832,\n",
       " 'offici': 7847,\n",
       " 'launch': 6330,\n",
       " 'languag': 6292,\n",
       " 'swedish': 10583,\n",
       " 'russian': 9405,\n",
       " 'fun': 4354,\n",
       " 'ask': 965,\n",
       " 'www': 12099,\n",
       " 'surveypir': 10557,\n",
       " 'ladi': 6262,\n",
       " 'bought': 1649,\n",
       " 'bracelet': 1677,\n",
       " 'pictur': 8371,\n",
       " 'page': 8093,\n",
       " 'background': 1139,\n",
       " 'still': 10356,\n",
       " 'wear': 11768,\n",
       " 'week': 11789,\n",
       " 'taken': 10663,\n",
       " 'dwanb': 3466,\n",
       " 'ate': 997,\n",
       " 'filet': 4067,\n",
       " 'american': 745,\n",
       " 'cant': 1960,\n",
       " 'mobil': 7220,\n",
       " 'book': 1608,\n",
       " 'hair': 4886,\n",
       " 'appoint': 886,\n",
       " 'report': 9142,\n",
       " 'english': 3653,\n",
       " 'modern': 7229,\n",
       " 'histori': 5166,\n",
       " 'geographi': 4501,\n",
       " 'math': 6898,\n",
       " 'ipt': 5715,\n",
       " 'sound': 10155,\n",
       " 'voic': 11636,\n",
       " 'great': 4724,\n",
       " 'euh': 3753,\n",
       " 'fine': 4081,\n",
       " 'tune': 11200,\n",
       " 'cupcak': 2782,\n",
       " 'heaven': 5043,\n",
       " 'shop': 9811,\n",
       " 'design': 3103,\n",
       " 'weird': 11801,\n",
       " 'contact': 2541,\n",
       " 'info': 5604,\n",
       " 'popup': 8537,\n",
       " 'tho': 10877,\n",
       " 'mh': 7073,\n",
       " 'bundl': 1834,\n",
       " 'task': 10700,\n",
       " 'call': 1912,\n",
       " 'mario': 6843,\n",
       " 'star': 10297,\n",
       " 'war': 11713,\n",
       " 'hit': 5167,\n",
       " 'list': 6508,\n",
       " 'complet': 2476,\n",
       " 'turn': 11207,\n",
       " 'shower': 9833,\n",
       " 'mani': 6814,\n",
       " 'us': 11453,\n",
       " 'angri': 800,\n",
       " 'feeter': 4006,\n",
       " 'tim': 10936,\n",
       " 'go': 4599,\n",
       " 'havent': 4976,\n",
       " 'post': 8558,\n",
       " 'song': 10117,\n",
       " 'choru': 2246,\n",
       " 'catchi': 2035,\n",
       " 'gud': 4795,\n",
       " 'track': 11081,\n",
       " 'record': 9035,\n",
       " 'jordan': 5925,\n",
       " 'alrit': 710,\n",
       " 'thanxx': 10826,\n",
       " 'websit': 11776,\n",
       " 'awww': 1099,\n",
       " 'cuti': 2814,\n",
       " 'ohhh': 7857,\n",
       " 'load': 6547,\n",
       " 'posit': 8553,\n",
       " 'vibe': 11565,\n",
       " 'way': 11758,\n",
       " 'cool': 2574,\n",
       " 'stuff': 10433,\n",
       " 'celebr': 2066,\n",
       " 'minor': 7157,\n",
       " 'bank': 1206,\n",
       " 'triumph': 11151,\n",
       " 'one': 7914,\n",
       " 'admit': 530,\n",
       " 'wrong': 12073,\n",
       " 'everyth': 3786,\n",
       " 'cross': 2740,\n",
       " 'forgotten': 4233,\n",
       " 'sometim': 10110,\n",
       " 'eclips': 3515,\n",
       " 'better': 1400,\n",
       " 'moon': 7282,\n",
       " 'tire': 10956,\n",
       " 'drunk': 3415,\n",
       " 'husband': 5399,\n",
       " 'roll': 9318,\n",
       " '1am': 87,\n",
       " 'bunch': 1833,\n",
       " 'friend': 4313,\n",
       " 'anoth': 824,\n",
       " 'drink': 3395,\n",
       " 'noisi': 7691,\n",
       " 'lot': 6621,\n",
       " 'well': 11807,\n",
       " 'definitelli': 3000,\n",
       " 'worth': 12040,\n",
       " 'tri': 11133,\n",
       " 'notic': 7740,\n",
       " 'differ': 3172,\n",
       " 'favorit': 3978,\n",
       " 'neither': 7556,\n",
       " 'miley': 7119,\n",
       " 'finish': 4084,\n",
       " 'first': 4096,\n",
       " 'shift': 9785,\n",
       " 'door': 3330,\n",
       " 'open': 7953,\n",
       " 'quit': 8865,\n",
       " 'find': 4080,\n",
       " 'amp': 757,\n",
       " 'set': 9696,\n",
       " 'solid': 10096,\n",
       " 'state': 10313,\n",
       " 'paid': 8096,\n",
       " 'made': 6734,\n",
       " 'redund': 9049,\n",
       " 'two': 11281,\n",
       " 'ago': 581,\n",
       " 'big': 1426,\n",
       " 'steam': 10326,\n",
       " 'train': 11093,\n",
       " 'back': 1137,\n",
       " 'forth': 4238,\n",
       " 'ravenglass': 8954,\n",
       " 'sunni': 10516,\n",
       " 'bout': 1655,\n",
       " 'steppenwolf': 10337,\n",
       " 'carpet': 2006,\n",
       " 'ride': 9241,\n",
       " 'maxxi': 6907,\n",
       " 'beat': 1294,\n",
       " 'whippet': 11866,\n",
       " 'yaaaaay': 12152,\n",
       " 'jac': 5787,\n",
       " 'sorcer': 10142,\n",
       " 'level': 6425,\n",
       " '35': 205,\n",
       " 'pwn': 8818,\n",
       " 'soon': 10126,\n",
       " 'doggi': 3291,\n",
       " 'cute': 2811,\n",
       " 'tell': 10760,\n",
       " 'simon': 9892,\n",
       " 'use': 11457,\n",
       " 'tuk': 11191,\n",
       " 'fm': 4175,\n",
       " 'say': 9522,\n",
       " 'hi': 5127,\n",
       " 'wildstarb': 11922,\n",
       " 'happi': 4937,\n",
       " 'rezday': 9218,\n",
       " 'captain': 1975,\n",
       " 'parti': 8164,\n",
       " 'car': 1980,\n",
       " 'cost': 2619,\n",
       " 'arm': 922,\n",
       " 'leg': 6386,\n",
       " 'forgiv': 4230,\n",
       " 'tweet': 11227,\n",
       " 'cracker': 2672,\n",
       " 'barrel': 1227,\n",
       " 'phillip': 8349,\n",
       " 'schofield': 9551,\n",
       " 'schofe': 9550,\n",
       " 'legend': 6390,\n",
       " 'ami': 749,\n",
       " 'techno': 10737,\n",
       " 'juno': 5980,\n",
       " 'funni': 4369,\n",
       " 'duti': 3460,\n",
       " 'mam': 6794,\n",
       " 'day': 2915,\n",
       " 'danc': 2865,\n",
       " 'move': 7333,\n",
       " 'paint': 8100,\n",
       " 'nail': 7474,\n",
       " 'foood': 4212,\n",
       " 'athen': 998,\n",
       " 'would': 12047,\n",
       " 'figur': 4063,\n",
       " 'access': 470,\n",
       " 'mp3': 7344,\n",
       " 'without': 11957,\n",
       " 'actual': 509,\n",
       " 'pay': 8208,\n",
       " 'oh': 7855,\n",
       " 'crap': 2683,\n",
       " 'dare': 2883,\n",
       " 'charg': 2129,\n",
       " 'custom': 2808,\n",
       " 'india': 5567,\n",
       " 'handmad': 4917,\n",
       " 'xxx': 12138,\n",
       " 'browni': 1772,\n",
       " 'music': 7415,\n",
       " 'birthday': 1462,\n",
       " 'grandpa': 4701,\n",
       " 'cat': 2030,\n",
       " 'nose': 7727,\n",
       " 'clog': 2346,\n",
       " 'plunger': 8468,\n",
       " 'huy': 5404,\n",
       " 'matulog': 6905,\n",
       " 'ka': 6003,\n",
       " 'na': 7462,\n",
       " 'hahah': 4866,\n",
       " 'cbroom': 2056,\n",
       " 'done': 3315,\n",
       " 'yet': 12228,\n",
       " 'come': 2433,\n",
       " 'school': 9554,\n",
       " 'left': 6383,\n",
       " 'im': 5505,\n",
       " 'beyond': 1405,\n",
       " 'excit': 3815,\n",
       " 'saturday': 9508,\n",
       " 'simpl': 9893,\n",
       " 'girl': 4550,\n",
       " 'oatmeal': 7804,\n",
       " 'bloom': 1544,\n",
       " 'wisteria': 11950,\n",
       " 'keep': 6068,\n",
       " 'beauti': 1301,\n",
       " 'alway': 722,\n",
       " 'that': 10827,\n",
       " 'chang': 2117,\n",
       " 'name': 7487,\n",
       " 'michel': 7086,\n",
       " 'dont': 3322,\n",
       " 'feel': 4002,\n",
       " 'spesh': 10213,\n",
       " 'year': 12196,\n",
       " 'older': 7890,\n",
       " 'yep': 12216,\n",
       " 'fought': 4248,\n",
       " 'decis': 2971,\n",
       " 'win': 11930,\n",
       " 'leagu': 6359,\n",
       " 'live': 6517,\n",
       " 'florida': 4159,\n",
       " 'sinc': 9900,\n",
       " '1994': 80,\n",
       " 'miss': 7176,\n",
       " 'snow': 10047,\n",
       " 'goin': 4614,\n",
       " 'abroaaaaad': 449,\n",
       " 'tomrow': 11017,\n",
       " 'dubaiiii': 3425,\n",
       " 'wait': 11683,\n",
       " 'long': 6586,\n",
       " 'room': 9334,\n",
       " 'prodigi': 8684,\n",
       " 'sorri': 10146,\n",
       " 'peep': 8248,\n",
       " 'shame': 9737,\n",
       " 'escher': 3719,\n",
       " 'painter': 8101,\n",
       " 'dj': 3267,\n",
       " 'wish': 11949,\n",
       " 'revis': 9209,\n",
       " 'session': 9695,\n",
       " 'class': 2316,\n",
       " '10': 19,\n",
       " 'non': 7696,\n",
       " 'uniform': 11388,\n",
       " 'learn': 6364,\n",
       " 'nothin': 7738,\n",
       " 'spring': 10248,\n",
       " 'clean': 2325,\n",
       " 'appreci': 887,\n",
       " 'feedback': 4000,\n",
       " 'mileeey': 7117,\n",
       " 'spain': 10178,\n",
       " 'tabl': 10639,\n",
       " 'touch': 11060,\n",
       " 'screen': 9589,\n",
       " 'woot': 12009,\n",
       " 'mistaken': 7183,\n",
       " 'uncl': 11353,\n",
       " 'pm': 8472,\n",
       " 'angamali': 793,\n",
       " 'antwic': 840,\n",
       " 'gone': 4628,\n",
       " 'case': 2018,\n",
       " 'shavam': 9757,\n",
       " 'caus': 2048,\n",
       " 'gem': 4478,\n",
       " 'result': 9180,\n",
       " 'came': 1926,\n",
       " 'pr': 8588,\n",
       " 'seat': 9610,\n",
       " 'wherea': 11855,\n",
       " 'bn': 1566,\n",
       " 'thx': 10919,\n",
       " 'advic': 547,\n",
       " 'petosin': 8327,\n",
       " 'kick': 6121,\n",
       " 'play': 8437,\n",
       " 'hooki': 5262,\n",
       " 'spontan': 10236,\n",
       " 'road': 9277,\n",
       " 'trip': 11145,\n",
       " 'must': 7425,\n",
       " 'god': 4603,\n",
       " 'bless': 1514,\n",
       " 'everyon': 3784,\n",
       " 'tcot': 10720,\n",
       " 'friday': 4309,\n",
       " 'tweepletuesday': 11225,\n",
       " 'followfriday': 4195,\n",
       " 'advantag': 542,\n",
       " 'sunshin': 10519,\n",
       " 'dog': 3290,\n",
       " 'beach': 1286,\n",
       " 'walk': 11694,\n",
       " '12': 34,\n",
       " 'yipeeee': 12239,\n",
       " 'employ': 3626,\n",
       " 'troubl': 11156,\n",
       " 'let': 6419,\n",
       " 'hour': 5327,\n",
       " 'hold': 5210,\n",
       " 'predict': 8604,\n",
       " 'massiv': 6881,\n",
       " 'slowdown': 9989,\n",
       " '14': 45,\n",
       " '30': 183,\n",
       " '17': 59,\n",
       " 'againn': 574,\n",
       " 'gooddd': 4635,\n",
       " 'lt': 6665,\n",
       " 'mayb': 6911,\n",
       " 'sooo': 10128,\n",
       " 'disast': 3215,\n",
       " 'movi': 7337,\n",
       " 'absolutli': 456,\n",
       " 'hilari': 5147,\n",
       " 'idol': 5464,\n",
       " 'mandi': 6807,\n",
       " 'safe': 9433,\n",
       " 'never': 7589,\n",
       " 'va': 11489,\n",
       " 'enjoy': 3656,\n",
       " 'sign': 9877,\n",
       " 'credit': 2708,\n",
       " 'fall': 3917,\n",
       " 'asleep': 966,\n",
       " 'api': 871,\n",
       " 'land': 6287,\n",
       " 'oauth': 7806,\n",
       " 'button': 1861,\n",
       " 'mate': 6891,\n",
       " 'gunna': 4820,\n",
       " 'chekk': 2172,\n",
       " 'next': 7604,\n",
       " 'boat': 1574,\n",
       " 'rock': 9297,\n",
       " 'total': 11058,\n",
       " 'agre': 585,\n",
       " 'anna': 809,\n",
       " 'mister': 7184,\n",
       " 'kayla': 6062,\n",
       " 'sun': 10503,\n",
       " 'sky': 9949,\n",
       " 'light': 6466,\n",
       " 'promis': 8706,\n",
       " 'willll': 11928,\n",
       " 'pretti': 8634,\n",
       " 'accord': 478,\n",
       " 'roster': 9349,\n",
       " 'hockey': 5198,\n",
       " 'season': 9609,\n",
       " 'bad': 1148,\n",
       " 'hah': 4861,\n",
       " 'gilmor': 4540,\n",
       " 'lmao': 6536,\n",
       " 'guess': 4800,\n",
       " 'could': 2627,\n",
       " '000': 1,\n",
       " 'wayn': 11760,\n",
       " 'french': 4297,\n",
       " 'toast': 10981,\n",
       " 'togeth': 10993,\n",
       " 'daamnn': 2838,\n",
       " 'bore': 1633,\n",
       " 'hk': 5177,\n",
       " 'thunder': 10912,\n",
       " 'louisvil': 6634,\n",
       " 'derbi': 3090,\n",
       " 'festiv': 4031,\n",
       " 'mornin': 7301,\n",
       " 'folk': 4191,\n",
       " 'coupl': 2641,\n",
       " 'egg': 3556,\n",
       " 'mcmuffin': 6935,\n",
       " 'excel': 3809,\n",
       " 'clear': 2327,\n",
       " '58': 298,\n",
       " 'kellan': 6084,\n",
       " 'lutz': 6695,\n",
       " 'hot': 5306,\n",
       " 'smoke': 10023,\n",
       " 'okay': 7875,\n",
       " 'torn': 11049,\n",
       " 'apart': 868,\n",
       " 'fresh': 4301,\n",
       " 'peanut': 8230,\n",
       " 'butter': 1857,\n",
       " 'put': 8811,\n",
       " 'less': 6415,\n",
       " 'relax': 9097,\n",
       " 'guest': 4801,\n",
       " 'hope': 5278,\n",
       " 'food': 4207,\n",
       " 'morton': 7309,\n",
       " 'plain': 8426,\n",
       " 'rice': 9229,\n",
       " 'red': 9040,\n",
       " 'da': 2836,\n",
       " 'blond': 1540,\n",
       " 'black': 1486,\n",
       " 'hey': 5119,\n",
       " 'hotti': 5319,\n",
       " 'queen': 8850,\n",
       " 'st': 10275,\n",
       " 'yesterday': 12227,\n",
       " 'last': 6311,\n",
       " 'sf': 9717,\n",
       " 'equival': 3696,\n",
       " 'experi': 3840,\n",
       " 'backgammon': 1138,\n",
       " 'meal': 6942,\n",
       " 'holla': 5222,\n",
       " 'chill': 2206,\n",
       " 'buy': 1866,\n",
       " 'mapl': 6827,\n",
       " 'syrup': 10625,\n",
       " 'mmm': 7209,\n",
       " 'bit': 1472,\n",
       " 'byte': 1884,\n",
       " 'ho': 5191,\n",
       " 'oponopono': 7963,\n",
       " 'seriou': 9686,\n",
       " 'busi': 1853,\n",
       " 'upload': 11439,\n",
       " 'photo': 8354,\n",
       " 'updatee': 11433,\n",
       " 'heyi': 5122,\n",
       " 'aww': 1098,\n",
       " 'hun': 5386,\n",
       " 'heidiii': 5067,\n",
       " 'singl': 9908,\n",
       " 'blackout': 1492,\n",
       " 'amaz': 730,\n",
       " 'dress': 3390,\n",
       " 'amazinggg': 733,\n",
       " 'jealou': 5835,\n",
       " 'answer': 825,\n",
       " 'someth': 10108,\n",
       " 'tempt': 10774,\n",
       " 'randomli': 8925,\n",
       " 'woke': 11977,\n",
       " 'fallen': 3919,\n",
       " 'saniti': 9483,\n",
       " 'import': 5526,\n",
       " 'photograph': 8355,\n",
       " 'saw': 9519,\n",
       " 'westjet': 11827,\n",
       " 'street': 10395,\n",
       " 'short': 9817,\n",
       " 'nonetheless': 7699,\n",
       " 'fan': 3932,\n",
       " 'especi': 3726,\n",
       " 'right': 9246,\n",
       " 'atchya': 996,\n",
       " 'showerrr': 9834,\n",
       " 'gonna': 4629,\n",
       " 'hang': 4924,\n",
       " 'pipe': 8401,\n",
       " 'comedi': 2434,\n",
       " 'cyru': 2829,\n",
       " 'luv': 6696,\n",
       " 'xo': 12122,\n",
       " 'kim': 6143,\n",
       " 'huge': 5367,\n",
       " 'role': 9317,\n",
       " 'model': 7227,\n",
       " 'outsid': 8028,\n",
       " 'demi': 3032,\n",
       " 'knee': 6178,\n",
       " 'slapper': 9958,\n",
       " 'alyssa': 725,\n",
       " 'went': 11822,\n",
       " 'bradi': 1680,\n",
       " 'mall': 6789,\n",
       " 'mad': 6729,\n",
       " 'mission': 7179,\n",
       " 'app': 875,\n",
       " 'break': 1702,\n",
       " 'glass': 4572,\n",
       " 'cathart': 2042,\n",
       " 'boulder': 1650,\n",
       " 'creek': 2712,\n",
       " 'gram': 4692,\n",
       " 'retweet': 9193,\n",
       " 'person': 8312,\n",
       " 'believ': 1347,\n",
       " 'effect': 3550,\n",
       " 'weekli': 11792,\n",
       " 'purg': 8797,\n",
       " 'aw': 1073,\n",
       " 'sweeti': 10593,\n",
       " 'ill': 5492,\n",
       " 'ox': 8071,\n",
       " 'pizza': 8416,\n",
       " 'qotd': 8835,\n",
       " 'told': 10999,\n",
       " 'stori': 10374,\n",
       " 'heritag': 5104,\n",
       " 'fella': 4011,\n",
       " 'lucki': 6674,\n",
       " 'aliv': 674,\n",
       " 'sit': 9919,\n",
       " 'air': 627,\n",
       " 'serious': 9687,\n",
       " 'help': 5087,\n",
       " 'life': 6456,\n",
       " 'almost': 693,\n",
       " 'clutter': 2361,\n",
       " 'decad': 2963,\n",
       " 'around': 932,\n",
       " 'selena': 9643,\n",
       " 'gomez': 4626,\n",
       " 'mommi': 7250,\n",
       " 'beer': 1326,\n",
       " 'corn': 2602,\n",
       " 'combo': 2432,\n",
       " 'santa': 9485,\n",
       " 'monica': 7261,\n",
       " 'pier': 8375,\n",
       " 'hm': 5181,\n",
       " 'essay': 3731,\n",
       " 'perhap': 8295,\n",
       " 'swap': 10574,\n",
       " 'lose': 6617,\n",
       " 'tweetup': 11242,\n",
       " 'afterparti': 572,\n",
       " 'genji': 4489,\n",
       " 'twitt': 11261,\n",
       " 'ya': 12149,\n",
       " 'laterz': 6320,\n",
       " 'church': 2269,\n",
       " 'puke': 8779,\n",
       " 'crown': 2744,\n",
       " 'coke': 2400,\n",
       " 'normal': 7717,\n",
       " 'il': 5487,\n",
       " 'happen': 4934,\n",
       " 'world': 12028,\n",
       " 'wife': 11907,\n",
       " 'milpita': 7131,\n",
       " 'price': 8642,\n",
       " 'dollar': 3300,\n",
       " 'reason': 9003,\n",
       " 'low': 6653,\n",
       " 'goi': 4612,\n",
       " 'reedbox': 9051,\n",
       " 'movii': 7340,\n",
       " 'spam': 10179,\n",
       " 'mash': 6873,\n",
       " 'multisyllab': 7391,\n",
       " 'word': 12012,\n",
       " 'hate': 4969,\n",
       " 'finger': 4083,\n",
       " 'statesboro': 10315,\n",
       " 'greenjacket': 4733,\n",
       " 'augusta': 1033,\n",
       " 'fact': 3899,\n",
       " 'librari': 6447,\n",
       " 'close': 2347,\n",
       " 'lame': 6281,\n",
       " 'oopssss': 7952,\n",
       " 'forgot': 4232,\n",
       " 'ypur': 12279,\n",
       " 'link': 6492,\n",
       " 'begin': 1331,\n",
       " 'realis': 8990,\n",
       " 'suggest': 10480,\n",
       " 'electro': 3579,\n",
       " 'project': 8702,\n",
       " 'free': 4290,\n",
       " 'download': 3357,\n",
       " 'cheer': 2161,\n",
       " 'ever': 3775,\n",
       " 'fli': 4137,\n",
       " 'con': 2489,\n",
       " 'place': 8422,\n",
       " 'crash': 2686,\n",
       " 'flew': 4135,\n",
       " 'london': 6581,\n",
       " 'buffi': 1805,\n",
       " 'btw': 1789,\n",
       " 'fabul': 3891,\n",
       " 'hr': 5348,\n",
       " 'run': 9396,\n",
       " 'desert': 3101,\n",
       " 'missi': 7177,\n",
       " 'kaya': 6059,\n",
       " 'errand': 3709,\n",
       " 'buffalo': 1804,\n",
       " 'burger': 1841,\n",
       " 'old': 7889,\n",
       " 'super': 10524,\n",
       " 'brother': 1768,\n",
       " 'head': 5005,\n",
       " 'lake': 6273,\n",
       " 'ken': 6087,\n",
       " 'coast': 2376,\n",
       " 'guar': 4789,\n",
       " 'aux': 1059,\n",
       " 'dinner': 3196,\n",
       " 'row': 9357,\n",
       " 'truli': 11163,\n",
       " 'addict': 517,\n",
       " 'updat': 11432,\n",
       " 'rate': 8945,\n",
       " 'may': 6908,\n",
       " 'bake': 1172,\n",
       " 'inspir': 5646,\n",
       " 'thankyou': 10821,\n",
       " 'peac': 8223,\n",
       " 'ny': 7788,\n",
       " 'cut': 2810,\n",
       " 'readi': 8984,\n",
       " 'nap': 7498,\n",
       " 'loung': 6635,\n",
       " 'downtown': 3360,\n",
       " 'la': 6248,\n",
       " 'cali': 1909,\n",
       " 'washington': 11734,\n",
       " 'crush': 2751,\n",
       " 'tacoma': 10646,\n",
       " 'seth': 9698,\n",
       " 'mcfarlen': 6928,\n",
       " 'glad': 4564,\n",
       " 'wonder': 11983,\n",
       " 'weekend': 11790,\n",
       " 'bb': 1265,\n",
       " 'half': 4896,\n",
       " 'taught': 10707,\n",
       " 'viva': 11616,\n",
       " 'vida': 11577,\n",
       " 'coldplay': 2405,\n",
       " 'epic': 3687,\n",
       " 'hehe': 5062,\n",
       " 'nci': 7532,\n",
       " 'grey': 4742,\n",
       " 'mark': 6846,\n",
       " 'harmon': 4958,\n",
       " 'attract': 1019,\n",
       " 'patron': 8197,\n",
       " 'hollywood': 5226,\n",
       " 'phathead': 8336,\n",
       " 'bday': 1281,\n",
       " 'skydiv': 9950,\n",
       " 'town': 11075,\n",
       " 'yearbook': 12197,\n",
       " 'closet': 2349,\n",
       " '2moro': 173,\n",
       " 'curiou': 2791,\n",
       " 'um': 11331,\n",
       " 'exactli': 3803,\n",
       " 'osalto': 7994,\n",
       " 'blast': 1505,\n",
       " 'across': 500,\n",
       " 'univers': 11396,\n",
       " 'soundtrack': 10158,\n",
       " 'worri': 12034,\n",
       " 'co': 2370,\n",
       " 'sunday': 10508,\n",
       " 'understand': 11364,\n",
       " 'chipotl': 2220,\n",
       " 'herebeforeoprah': 5102,\n",
       " 'andi': 782,\n",
       " 'took': 11031,\n",
       " 'ihop': 5479,\n",
       " 'yum': 12291,\n",
       " 'oliv': 7896,\n",
       " 'nyc': 7790,\n",
       " 'meant': 6946,\n",
       " 'earlier': 3488,\n",
       " 'shirt': 9793,\n",
       " 'afflic': 562,\n",
       " 'ufc': 11306,\n",
       " 'card': 1986,\n",
       " 'auth': 1047,\n",
       " 'skype': 9952,\n",
       " 'endless': 3639,\n",
       " 'bali': 1181,\n",
       " 'juli': 5965,\n",
       " 'japan': 5813,\n",
       " 'anyon': 852,\n",
       " 'enough': 3659,\n",
       " 'energi': 3647,\n",
       " 'horsey': 5297,\n",
       " 'join': 5905,\n",
       " 'mon': 7253,\n",
       " 'tue': 11189,\n",
       " 'trackday': 11082,\n",
       " 'njmp': 7672,\n",
       " 'cbr600rr': 2055,\n",
       " 'thunderbolt': 10913,\n",
       " 'hug': 5366,\n",
       " 'recent': 9016,\n",
       " 'matrix': 6900,\n",
       " 'trilog': 11143,\n",
       " 'sci': 9559,\n",
       " 'fi': 4039,\n",
       " 'film': 4070,\n",
       " 'beyonc': 1404,\n",
       " 'stupid': 10437,\n",
       " 'ali': 666,\n",
       " 'larter': 6303,\n",
       " 'forget': 4228,\n",
       " 'parent': 8150,\n",
       " 'often': 7852,\n",
       " 'offspr': 7851,\n",
       " 'yo': 12247,\n",
       " 'wardrob': 11719,\n",
       " 'chees': 2166,\n",
       " 'eat': 3504,\n",
       " 'wallyworld': 11702,\n",
       " 'kewl': 6108,\n",
       " 'easter': 3498,\n",
       " 'basket': 1243,\n",
       " 'nitelit': 7667,\n",
       " 'comput': 2487,\n",
       " 'text': 10803,\n",
       " 'wake': 11689,\n",
       " 'doesnt': 3288,\n",
       " '1pm': 93,\n",
       " 'karen': 6035,\n",
       " 'idnhu': 5462,\n",
       " 'vid': 11576,\n",
       " 'plenti': 8458,\n",
       " 'video': 11578,\n",
       " 'journey': 5931,\n",
       " 'twit': 11258,\n",
       " 'end': 3637,\n",
       " 'congrat': 2516,\n",
       " 'cooler': 2576,\n",
       " 'twittz': 11276,\n",
       " 'ju': 5950,\n",
       " 'hella': 5077,\n",
       " 'allerg': 682,\n",
       " 'ew': 3797,\n",
       " 'irrit': 5732,\n",
       " 'janin': 5812,\n",
       " 'whoa': 11874,\n",
       " 'dude': 3432,\n",
       " 'sent': 9671,\n",
       " 'sa': 9414,\n",
       " 'fb': 3981,\n",
       " 'ahhaha': 603,\n",
       " 'gee': 4471,\n",
       " 'tnx': 10979,\n",
       " 'boot': 1619,\n",
       " 'usual': 11462,\n",
       " 'heh': 5061,\n",
       " 'diddi': 3162,\n",
       " 'gt': 4782,\n",
       " 'badg': 1154,\n",
       " 'bed': 1312,\n",
       " 'oooh': 7941,\n",
       " 'inform': 5606,\n",
       " 'organis': 7984,\n",
       " 'properli': 8716,\n",
       " 'recharg': 9021,\n",
       " 'woop': 12006,\n",
       " 'mr': 7347,\n",
       " 'brian': 1726,\n",
       " 'irish': 5723,\n",
       " 'omg': 7904,\n",
       " 'fix': 4108,\n",
       " 'ipod': 5713,\n",
       " 'lisarcast': 6506,\n",
       " 'blogspot': 1537,\n",
       " 'dai': 2846,\n",
       " 'blackish': 1490,\n",
       " 'green': 4732,\n",
       " 'si': 9856,\n",
       " 'silk': 9884,\n",
       " 'color': 2422,\n",
       " 'sweetpea': 10595,\n",
       " 'realiti': 8991,\n",
       " 'bite': 1475,\n",
       " 'rejuvin': 9091,\n",
       " 'feet': 4005,\n",
       " 'ach': 489,\n",
       " 'comment': 2447,\n",
       " 'eas': 3493,\n",
       " 'pain': 8097,\n",
       " '2l': 171,\n",
       " 'till': 10935,\n",
       " '3am': 215,\n",
       " 'kekekek': 6080,\n",
       " 'jk': 5883,\n",
       " 'hell': 5076,\n",
       " 'kitchen': 6163,\n",
       " ...}"
      ]
     },
     "execution_count": 87,
     "metadata": {},
     "output_type": "execute_result"
    }
   ],
   "source": [
    "tfidf.vocabulary_"
   ]
  },
  {
   "cell_type": "code",
   "execution_count": 88,
   "metadata": {
    "id": "f8Bs3LJ_Twlb"
   },
   "outputs": [
    {
     "data": {
      "text/plain": [
       "array([0, 0, 0, ..., 1, 1, 1], dtype=int64)"
      ]
     },
     "execution_count": 88,
     "metadata": {},
     "output_type": "execute_result"
    }
   ],
   "source": [
    "y"
   ]
  },
  {
   "cell_type": "code",
   "execution_count": 89,
   "metadata": {
    "id": "ysAwAIYrznMn"
   },
   "outputs": [
    {
     "data": {
      "text/plain": [
       "array([[0., 0., 0., ..., 0., 0., 0.],\n",
       "       [0., 0., 0., ..., 0., 0., 0.],\n",
       "       [0., 0., 0., ..., 0., 0., 0.],\n",
       "       [0., 0., 0., ..., 0., 0., 0.]])"
      ]
     },
     "execution_count": 89,
     "metadata": {},
     "output_type": "execute_result"
    }
   ],
   "source": [
    "X[:4]"
   ]
  },
  {
   "cell_type": "code",
   "execution_count": 90,
   "metadata": {
    "id": "Yjsc-XyAT1ID"
   },
   "outputs": [],
   "source": [
    "from sklearn.model_selection import train_test_split\n",
    "X_train, X_test, y_train, y_test = train_test_split(X,y,test_size=0.2,random_state=2)"
   ]
  },
  {
   "cell_type": "code",
   "execution_count": 91,
   "metadata": {
    "id": "Vj05PPxDUE1E"
   },
   "outputs": [],
   "source": [
    "from sklearn.naive_bayes import GaussianNB, MultinomialNB, BernoulliNB\n",
    "from sklearn.metrics import accuracy_score,confusion_matrix,f1_score"
   ]
  },
  {
   "cell_type": "code",
   "execution_count": 92,
   "metadata": {
    "id": "NDgKN1YrUO4x"
   },
   "outputs": [],
   "source": [
    "gnb = GaussianNB()\n",
    "mnb = MultinomialNB()\n",
    "bnb = BernoulliNB()"
   ]
  },
  {
   "cell_type": "markdown",
   "metadata": {
    "id": "6qpypCEZVBv2"
   },
   "source": [
    "### GaussianNB"
   ]
  },
  {
   "cell_type": "code",
   "execution_count": 93,
   "metadata": {
    "id": "qjhops0JUWL3"
   },
   "outputs": [
    {
     "name": "stdout",
     "output_type": "stream",
     "text": [
      "0.5862907146329607\n",
      "[[840 760]\n",
      " [ 91 366]]\n",
      "0.4624131396083386\n"
     ]
    }
   ],
   "source": [
    "gnb.fit(X_train,y_train)\n",
    "y_pred1 = gnb.predict(X_test)\n",
    "print(accuracy_score(y_test, y_pred1))\n",
    "print(confusion_matrix(y_test, y_pred1))\n",
    "print(f1_score(y_test, y_pred1))"
   ]
  },
  {
   "cell_type": "markdown",
   "metadata": {
    "id": "MEaYpDkrVOD6"
   },
   "source": [
    "#### MultinomialNB"
   ]
  },
  {
   "cell_type": "code",
   "execution_count": 94,
   "metadata": {
    "id": "clH29O2UVSs7"
   },
   "outputs": [
    {
     "name": "stdout",
     "output_type": "stream",
     "text": [
      "0.9231891103548857\n",
      "[[1598    2]\n",
      " [ 156  301]]\n",
      "0.7921052631578948\n"
     ]
    }
   ],
   "source": [
    "mnb.fit(X_train,y_train)\n",
    "y_pred2 = mnb.predict(X_test)\n",
    "print(accuracy_score(y_test, y_pred2))\n",
    "print(confusion_matrix(y_test, y_pred2))\n",
    "print(f1_score(y_test, y_pred2))"
   ]
  },
  {
   "cell_type": "markdown",
   "metadata": {
    "id": "-i-JErGKVcWG"
   },
   "source": [
    "#### BernoulliNB"
   ]
  },
  {
   "cell_type": "code",
   "execution_count": 95,
   "metadata": {
    "id": "I4I1bzajVhz1"
   },
   "outputs": [
    {
     "name": "stdout",
     "output_type": "stream",
     "text": [
      "0.982498784637822\n",
      "[[1597    3]\n",
      " [  33  424]]\n",
      "0.9592760180995474\n"
     ]
    }
   ],
   "source": [
    "bnb.fit(X_train,y_train)\n",
    "y_pred3 = bnb.predict(X_test)\n",
    "print(accuracy_score(y_test, y_pred3))\n",
    "print(confusion_matrix(y_test, y_pred3))\n",
    "print(f1_score(y_test, y_pred3))"
   ]
  },
  {
   "cell_type": "code",
   "execution_count": 96,
   "metadata": {
    "id": "KFiDmqLJWj9q"
   },
   "outputs": [],
   "source": [
    "# Tfidf -> BNB"
   ]
  },
  {
   "cell_type": "code",
   "execution_count": 97,
   "metadata": {
    "id": "yLaVkGzwY1ph"
   },
   "outputs": [],
   "source": [
    "from sklearn.linear_model import LogisticRegression\n",
    "from sklearn.svm import SVC\n",
    "from sklearn.naive_bayes import BernoulliNB\n",
    "from sklearn.tree import DecisionTreeClassifier\n",
    "from sklearn.ensemble import RandomForestClassifier\n",
    "from sklearn.ensemble import AdaBoostClassifier\n",
    "from sklearn.ensemble import BaggingClassifier\n",
    "from sklearn.ensemble import ExtraTreesClassifier\n",
    "from sklearn.ensemble import GradientBoostingClassifier\n",
    "from xgboost import XGBClassifier"
   ]
  },
  {
   "cell_type": "code",
   "execution_count": 98,
   "metadata": {
    "id": "18wLYjEEY7u7"
   },
   "outputs": [],
   "source": [
    "svc = SVC(kernel='sigmoid', gamma=1.0)\n",
    "bnb = BernoulliNB()\n",
    "dtc = DecisionTreeClassifier(max_depth=5)\n",
    "lrc = LogisticRegression(solver='liblinear', penalty='l1')\n",
    "rfc = RandomForestClassifier(n_estimators=50, random_state=2)\n",
    "abc = AdaBoostClassifier(n_estimators=50, random_state=2)\n",
    "bc = BaggingClassifier(n_estimators=50, random_state=2)\n",
    "etc = ExtraTreesClassifier(n_estimators=50, random_state=2)\n",
    "gbdt = GradientBoostingClassifier(n_estimators=50,random_state=2)\n",
    "xgb = XGBClassifier(n_estimators=50,random_state=2)"
   ]
  },
  {
   "cell_type": "code",
   "execution_count": 99,
   "metadata": {
    "id": "xhROBvQyZAlG"
   },
   "outputs": [],
   "source": [
    "clfs = {\n",
    "    'SVC' : svc,\n",
    "    'NB': bnb,\n",
    "    'DT': dtc,\n",
    "    'LR': lrc,\n",
    "    'RF': rfc,\n",
    "    'AdaBoost': abc,\n",
    "    'BgC': bc,\n",
    "    'ETC': etc,\n",
    "    'GBDT':gbdt,\n",
    "    'xgb':xgb\n",
    "}"
   ]
  },
  {
   "cell_type": "code",
   "execution_count": 100,
   "metadata": {
    "id": "nAFFC7RsZFH3"
   },
   "outputs": [],
   "source": [
    "def train_classifier(clf,X_train,y_train,X_test,y_test):\n",
    "    clf.fit(X_train,y_train)\n",
    "    y_pred = clf.predict(X_test)\n",
    "    accuracy = accuracy_score(y_test,y_pred)\n",
    "    f1_score_ = f1_score(y_test,y_pred)\n",
    "\n",
    "    return accuracy,f1_score_"
   ]
  },
  {
   "cell_type": "code",
   "execution_count": 101,
   "metadata": {
    "id": "_DKf1yvDZKJ2"
   },
   "outputs": [
    {
     "data": {
      "text/plain": [
       "(0.9956246961594555, 0.9900771775082691)"
      ]
     },
     "execution_count": 101,
     "metadata": {},
     "output_type": "execute_result"
    }
   ],
   "source": [
    "train_classifier(svc,X_train,y_train,X_test,y_test)"
   ]
  },
  {
   "cell_type": "code",
   "execution_count": 102,
   "metadata": {
    "id": "uB6RNOdSZOCV",
    "scrolled": false
   },
   "outputs": [
    {
     "name": "stdout",
     "output_type": "stream",
     "text": [
      "For  SVC\n",
      "Accuracy -  0.9956246961594555\n",
      "F1_Score -  0.9900771775082691\n",
      "For  NB\n",
      "Accuracy -  0.982498784637822\n",
      "F1_Score -  0.9592760180995474\n",
      "For  DT\n",
      "Accuracy -  0.997569275644142\n",
      "F1_Score -  0.9945115257958288\n",
      "For  LR\n",
      "Accuracy -  0.9961108410306271\n",
      "F1_Score -  0.9911894273127754\n",
      "For  RF\n",
      "Accuracy -  0.9980554205153136\n",
      "F1_Score -  0.9956140350877193\n",
      "For  AdaBoost\n",
      "Accuracy -  0.9970831307729704\n",
      "F1_Score -  0.9934210526315789\n",
      "For  BgC\n",
      "Accuracy -  0.997569275644142\n",
      "F1_Score -  0.9945115257958288\n",
      "For  ETC\n",
      "Accuracy -  0.9922216820612543\n",
      "F1_Score -  0.9823399558498895\n",
      "For  GBDT\n",
      "Accuracy -  0.997569275644142\n",
      "F1_Score -  0.9945115257958288\n",
      "For  xgb\n",
      "Accuracy -  0.9970831307729704\n",
      "F1_Score -  0.9934065934065934\n"
     ]
    }
   ],
   "source": [
    "accuracy_scores = []\n",
    "f1_scores = []\n",
    "\n",
    "for name,clf in clfs.items():\n",
    "\n",
    "    current_accuracy,current_f1_score = train_classifier(clf, X_train,y_train,X_test,y_test)\n",
    "\n",
    "    print(\"For \",name)\n",
    "    print(\"Accuracy - \",current_accuracy)\n",
    "    print(\"F1_Score - \",current_f1_score)\n",
    "\n",
    "    accuracy_scores.append(current_accuracy)\n",
    "    f1_scores.append(current_f1_score)"
   ]
  },
  {
   "cell_type": "code",
   "execution_count": 103,
   "metadata": {
    "id": "-aBklf5LZ1oq"
   },
   "outputs": [],
   "source": [
    "performance_df = pd.DataFrame({'Algorithm':clfs.keys(),'Accuracy':accuracy_scores,'F1_Score':f1_scores}).sort_values(by='F1_Score', ascending=False)"
   ]
  },
  {
   "cell_type": "code",
   "execution_count": 104,
   "metadata": {
    "id": "lPcnIqUUZ6Me"
   },
   "outputs": [
    {
     "data": {
      "text/html": [
       "<div>\n",
       "<style scoped>\n",
       "    .dataframe tbody tr th:only-of-type {\n",
       "        vertical-align: middle;\n",
       "    }\n",
       "\n",
       "    .dataframe tbody tr th {\n",
       "        vertical-align: top;\n",
       "    }\n",
       "\n",
       "    .dataframe thead th {\n",
       "        text-align: right;\n",
       "    }\n",
       "</style>\n",
       "<table border=\"1\" class=\"dataframe\">\n",
       "  <thead>\n",
       "    <tr style=\"text-align: right;\">\n",
       "      <th></th>\n",
       "      <th>Algorithm</th>\n",
       "      <th>Accuracy</th>\n",
       "      <th>F1_Score</th>\n",
       "    </tr>\n",
       "  </thead>\n",
       "  <tbody>\n",
       "    <tr>\n",
       "      <th>4</th>\n",
       "      <td>RF</td>\n",
       "      <td>0.998055</td>\n",
       "      <td>0.995614</td>\n",
       "    </tr>\n",
       "    <tr>\n",
       "      <th>2</th>\n",
       "      <td>DT</td>\n",
       "      <td>0.997569</td>\n",
       "      <td>0.994512</td>\n",
       "    </tr>\n",
       "    <tr>\n",
       "      <th>6</th>\n",
       "      <td>BgC</td>\n",
       "      <td>0.997569</td>\n",
       "      <td>0.994512</td>\n",
       "    </tr>\n",
       "    <tr>\n",
       "      <th>8</th>\n",
       "      <td>GBDT</td>\n",
       "      <td>0.997569</td>\n",
       "      <td>0.994512</td>\n",
       "    </tr>\n",
       "    <tr>\n",
       "      <th>5</th>\n",
       "      <td>AdaBoost</td>\n",
       "      <td>0.997083</td>\n",
       "      <td>0.993421</td>\n",
       "    </tr>\n",
       "    <tr>\n",
       "      <th>9</th>\n",
       "      <td>xgb</td>\n",
       "      <td>0.997083</td>\n",
       "      <td>0.993407</td>\n",
       "    </tr>\n",
       "    <tr>\n",
       "      <th>3</th>\n",
       "      <td>LR</td>\n",
       "      <td>0.996111</td>\n",
       "      <td>0.991189</td>\n",
       "    </tr>\n",
       "    <tr>\n",
       "      <th>0</th>\n",
       "      <td>SVC</td>\n",
       "      <td>0.995625</td>\n",
       "      <td>0.990077</td>\n",
       "    </tr>\n",
       "    <tr>\n",
       "      <th>7</th>\n",
       "      <td>ETC</td>\n",
       "      <td>0.992222</td>\n",
       "      <td>0.982340</td>\n",
       "    </tr>\n",
       "    <tr>\n",
       "      <th>1</th>\n",
       "      <td>NB</td>\n",
       "      <td>0.982499</td>\n",
       "      <td>0.959276</td>\n",
       "    </tr>\n",
       "  </tbody>\n",
       "</table>\n",
       "</div>"
      ],
      "text/plain": [
       "  Algorithm  Accuracy  F1_Score\n",
       "4        RF  0.998055  0.995614\n",
       "2        DT  0.997569  0.994512\n",
       "6       BgC  0.997569  0.994512\n",
       "8      GBDT  0.997569  0.994512\n",
       "5  AdaBoost  0.997083  0.993421\n",
       "9       xgb  0.997083  0.993407\n",
       "3        LR  0.996111  0.991189\n",
       "0       SVC  0.995625  0.990077\n",
       "7       ETC  0.992222  0.982340\n",
       "1        NB  0.982499  0.959276"
      ]
     },
     "execution_count": 104,
     "metadata": {},
     "output_type": "execute_result"
    }
   ],
   "source": [
    "performance_df"
   ]
  },
  {
   "cell_type": "code",
   "execution_count": 105,
   "metadata": {
    "id": "BArHyD7NpgYb"
   },
   "outputs": [],
   "source": [
    "performance_df1 = pd.melt(performance_df, id_vars = \"Algorithm\")"
   ]
  },
  {
   "cell_type": "code",
   "execution_count": 106,
   "metadata": {
    "id": "w0rQQquopiWa"
   },
   "outputs": [
    {
     "data": {
      "text/html": [
       "<div>\n",
       "<style scoped>\n",
       "    .dataframe tbody tr th:only-of-type {\n",
       "        vertical-align: middle;\n",
       "    }\n",
       "\n",
       "    .dataframe tbody tr th {\n",
       "        vertical-align: top;\n",
       "    }\n",
       "\n",
       "    .dataframe thead th {\n",
       "        text-align: right;\n",
       "    }\n",
       "</style>\n",
       "<table border=\"1\" class=\"dataframe\">\n",
       "  <thead>\n",
       "    <tr style=\"text-align: right;\">\n",
       "      <th></th>\n",
       "      <th>Algorithm</th>\n",
       "      <th>variable</th>\n",
       "      <th>value</th>\n",
       "    </tr>\n",
       "  </thead>\n",
       "  <tbody>\n",
       "    <tr>\n",
       "      <th>0</th>\n",
       "      <td>RF</td>\n",
       "      <td>Accuracy</td>\n",
       "      <td>0.998055</td>\n",
       "    </tr>\n",
       "    <tr>\n",
       "      <th>1</th>\n",
       "      <td>DT</td>\n",
       "      <td>Accuracy</td>\n",
       "      <td>0.997569</td>\n",
       "    </tr>\n",
       "    <tr>\n",
       "      <th>2</th>\n",
       "      <td>BgC</td>\n",
       "      <td>Accuracy</td>\n",
       "      <td>0.997569</td>\n",
       "    </tr>\n",
       "    <tr>\n",
       "      <th>3</th>\n",
       "      <td>GBDT</td>\n",
       "      <td>Accuracy</td>\n",
       "      <td>0.997569</td>\n",
       "    </tr>\n",
       "    <tr>\n",
       "      <th>4</th>\n",
       "      <td>AdaBoost</td>\n",
       "      <td>Accuracy</td>\n",
       "      <td>0.997083</td>\n",
       "    </tr>\n",
       "    <tr>\n",
       "      <th>5</th>\n",
       "      <td>xgb</td>\n",
       "      <td>Accuracy</td>\n",
       "      <td>0.997083</td>\n",
       "    </tr>\n",
       "    <tr>\n",
       "      <th>6</th>\n",
       "      <td>LR</td>\n",
       "      <td>Accuracy</td>\n",
       "      <td>0.996111</td>\n",
       "    </tr>\n",
       "    <tr>\n",
       "      <th>7</th>\n",
       "      <td>SVC</td>\n",
       "      <td>Accuracy</td>\n",
       "      <td>0.995625</td>\n",
       "    </tr>\n",
       "    <tr>\n",
       "      <th>8</th>\n",
       "      <td>ETC</td>\n",
       "      <td>Accuracy</td>\n",
       "      <td>0.992222</td>\n",
       "    </tr>\n",
       "    <tr>\n",
       "      <th>9</th>\n",
       "      <td>NB</td>\n",
       "      <td>Accuracy</td>\n",
       "      <td>0.982499</td>\n",
       "    </tr>\n",
       "    <tr>\n",
       "      <th>10</th>\n",
       "      <td>RF</td>\n",
       "      <td>F1_Score</td>\n",
       "      <td>0.995614</td>\n",
       "    </tr>\n",
       "    <tr>\n",
       "      <th>11</th>\n",
       "      <td>DT</td>\n",
       "      <td>F1_Score</td>\n",
       "      <td>0.994512</td>\n",
       "    </tr>\n",
       "    <tr>\n",
       "      <th>12</th>\n",
       "      <td>BgC</td>\n",
       "      <td>F1_Score</td>\n",
       "      <td>0.994512</td>\n",
       "    </tr>\n",
       "    <tr>\n",
       "      <th>13</th>\n",
       "      <td>GBDT</td>\n",
       "      <td>F1_Score</td>\n",
       "      <td>0.994512</td>\n",
       "    </tr>\n",
       "    <tr>\n",
       "      <th>14</th>\n",
       "      <td>AdaBoost</td>\n",
       "      <td>F1_Score</td>\n",
       "      <td>0.993421</td>\n",
       "    </tr>\n",
       "    <tr>\n",
       "      <th>15</th>\n",
       "      <td>xgb</td>\n",
       "      <td>F1_Score</td>\n",
       "      <td>0.993407</td>\n",
       "    </tr>\n",
       "    <tr>\n",
       "      <th>16</th>\n",
       "      <td>LR</td>\n",
       "      <td>F1_Score</td>\n",
       "      <td>0.991189</td>\n",
       "    </tr>\n",
       "    <tr>\n",
       "      <th>17</th>\n",
       "      <td>SVC</td>\n",
       "      <td>F1_Score</td>\n",
       "      <td>0.990077</td>\n",
       "    </tr>\n",
       "    <tr>\n",
       "      <th>18</th>\n",
       "      <td>ETC</td>\n",
       "      <td>F1_Score</td>\n",
       "      <td>0.982340</td>\n",
       "    </tr>\n",
       "    <tr>\n",
       "      <th>19</th>\n",
       "      <td>NB</td>\n",
       "      <td>F1_Score</td>\n",
       "      <td>0.959276</td>\n",
       "    </tr>\n",
       "  </tbody>\n",
       "</table>\n",
       "</div>"
      ],
      "text/plain": [
       "   Algorithm  variable     value\n",
       "0         RF  Accuracy  0.998055\n",
       "1         DT  Accuracy  0.997569\n",
       "2        BgC  Accuracy  0.997569\n",
       "3       GBDT  Accuracy  0.997569\n",
       "4   AdaBoost  Accuracy  0.997083\n",
       "5        xgb  Accuracy  0.997083\n",
       "6         LR  Accuracy  0.996111\n",
       "7        SVC  Accuracy  0.995625\n",
       "8        ETC  Accuracy  0.992222\n",
       "9         NB  Accuracy  0.982499\n",
       "10        RF  F1_Score  0.995614\n",
       "11        DT  F1_Score  0.994512\n",
       "12       BgC  F1_Score  0.994512\n",
       "13      GBDT  F1_Score  0.994512\n",
       "14  AdaBoost  F1_Score  0.993421\n",
       "15       xgb  F1_Score  0.993407\n",
       "16        LR  F1_Score  0.991189\n",
       "17       SVC  F1_Score  0.990077\n",
       "18       ETC  F1_Score  0.982340\n",
       "19        NB  F1_Score  0.959276"
      ]
     },
     "execution_count": 106,
     "metadata": {},
     "output_type": "execute_result"
    }
   ],
   "source": [
    "performance_df1"
   ]
  },
  {
   "cell_type": "code",
   "execution_count": 107,
   "metadata": {
    "id": "_9r1Z233aifc"
   },
   "outputs": [
    {
     "data": {
      "image/png": "[encoded data removed]",
      "text/plain": [
       "<Figure size 441.75x360 with 1 Axes>"
      ]
     },
     "metadata": {
      "needs_background": "light"
     },
     "output_type": "display_data"
    }
   ],
   "source": [
    "sns.catplot(x = 'Algorithm', y='value',\n",
    "               hue = 'variable',data=performance_df1, kind='bar',height=5)\n",
    "plt.ylim(0.5,1.0)\n",
    "plt.xticks(rotation='vertical')\n",
    "plt.show()"
   ]
  },
  {
   "cell_type": "code",
   "execution_count": 108,
   "metadata": {
    "id": "TdFO52APXL6d"
   },
   "outputs": [],
   "source": [
    "y_pred = rfc.predict(X_test)"
   ]
  },
  {
   "cell_type": "code",
   "execution_count": 109,
   "metadata": {
    "id": "cpTktEn7j3R1"
   },
   "outputs": [
    {
     "data": {
      "image/png": "[encoded data removed]",
      "text/plain": [
       "<Figure size 432x288 with 2 Axes>"
      ]
     },
     "metadata": {
      "needs_background": "light"
     },
     "output_type": "display_data"
    }
   ],
   "source": [
    "label_map = {1: 'Depressive', 0: 'Normal'}  # Map numeric labels to text\n",
    "cm = confusion_matrix(y_test, y_pred, labels=list(label_map.keys()))  # Create confusion matrix directly with labels\n",
    "\n",
    "sns.heatmap(cm, annot=True, fmt=\".0f\", xticklabels=label_map.values(), yticklabels=label_map.values())\n",
    "plt.xlabel(\"Predicted\")\n",
    "plt.ylabel(\"Actual\")\n",
    "plt.show()"
   ]
  },
  {
   "cell_type": "code",
   "execution_count": 110,
   "metadata": {
    "id": "VmRc9T74znMu"
   },
   "outputs": [],
   "source": [
    "import pickle\n",
    "pickle.dump(tfidf,open('vectorizer.pkl','wb'))\n",
    "pickle.dump(rfc,open('model.pkl','wb'))"
   ]
  },
  {
   "cell_type": "code",
   "execution_count": null,
   "metadata": {},
   "outputs": [],
   "source": []
  }
 ],
 "metadata": {
  "colab": {
   "provenance": []
  },
  "kernelspec": {
   "display_name": "Python 3 (ipykernel)",
   "language": "python",
   "name": "python3"
  },
  "language_info": {
   "codemirror_mode": {
    "name": "ipython",
    "version": 3
   },
   "file_extension": ".py",
   "mimetype": "text/x-python",
   "name": "python",
   "nbconvert_exporter": "python",
   "pygments_lexer": "ipython3",
   "version": "3.9.18"
  }
 },
 "nbformat": 4,
 "nbformat_minor": 1
}
